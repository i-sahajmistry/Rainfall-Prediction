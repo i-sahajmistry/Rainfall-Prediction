{
 "cells": [
  {
   "cell_type": "code",
   "execution_count": 1,
   "metadata": {},
   "outputs": [],
   "source": [
    "import pandas as pd\n",
    "import numpy as np"
   ]
  },
  {
   "cell_type": "code",
   "execution_count": 2,
   "metadata": {
    "colab": {
     "base_uri": "https://localhost:8080/"
    },
    "id": "Fwu9h_TuSK93",
    "outputId": "ac1cf7b5-adc4-42d9-be5e-1001831eef75"
   },
   "outputs": [
    {
     "name": "stdout",
     "output_type": "stream",
     "text": [
      "['C:/Users/Sahaj/Desktop\\\\uwnd10111.csv']\n"
     ]
    }
   ],
   "source": [
    "import glob\n",
    "\n",
    "slp_path = \"C:/Users/Sahaj/Desktop/*.csv\"\n",
    "\n",
    "slp_months = []\n",
    "for i in glob.glob(slp_path):\n",
    "  slp_months.append(i)\n",
    "  \n",
    "slp_months.sort()\n",
    "print(slp_months)"
   ]
  },
  {
   "cell_type": "code",
   "execution_count": 19,
   "metadata": {
    "colab": {
     "base_uri": "https://localhost:8080/"
    },
    "id": "CJoOXleUSWfq",
    "outputId": "445be784-a13a-4ffb-ffb6-f6488a5ff73a"
   },
   "outputs": [
    {
     "data": {
      "text/plain": [
       "(1, 24)"
      ]
     },
     "execution_count": 19,
     "metadata": {},
     "output_type": "execute_result"
    }
   ],
   "source": [
    "# To extract only the relavant infromation from data frame for autoencoder\n",
    "def get_feature(data):\n",
    "  new_data = []\n",
    "  for i in range(len(data)):\n",
    "    d = data.iloc[i]\n",
    "    new_data.append(list(d))\n",
    "  # print(new_data)\n",
    "  return np.array(new_data)\n",
    "\n",
    "combine = []\n",
    "for i in range(1):\n",
    "  month_path = slp_months[i]\n",
    "  month_data = pd.read_csv(month_path, header=[0, 1], index_col=0)\n",
    "  feature = get_feature(month_data)\n",
    "  # feature = feature[0:\n",
    "  for i in feature:\n",
    "    combine.append(i)\n",
    "x = np.array(combine)\n",
    "x.shape"
   ]
  },
  {
   "cell_type": "code",
   "execution_count": 20,
   "metadata": {},
   "outputs": [
    {
     "data": {
      "text/plain": [
       "numpy.str_"
      ]
     },
     "execution_count": 20,
     "metadata": {},
     "output_type": "execute_result"
    }
   ],
   "source": [
    "type(x[0][0])"
   ]
  }
 ],
 "metadata": {
  "interpreter": {
   "hash": "3bbce1a89562c29fecbe19ebfe93ab055e0102db64cdac833442cb08c246cb39"
  },
  "kernelspec": {
   "display_name": "Python 3.7.7 64-bit",
   "language": "python",
   "name": "python3"
  },
  "language_info": {
   "codemirror_mode": {
    "name": "ipython",
    "version": 3
   },
   "file_extension": ".py",
   "mimetype": "text/x-python",
   "name": "python",
   "nbconvert_exporter": "python",
   "pygments_lexer": "ipython3",
   "version": "3.7.7"
  },
  "orig_nbformat": 4
 },
 "nbformat": 4,
 "nbformat_minor": 2
}
