{
 "cells": [
  {
   "cell_type": "code",
   "execution_count": 15,
   "metadata": {
    "id": "7MhPzk45Ry1d"
   },
   "outputs": [],
   "source": [
    "import pandas as pd\n",
    "import numpy as np\n",
    "import tensorflow as tf\n",
    "import keras\n",
    "from keras.models import Model\n",
    "from keras.layers import Input, Dense, ReLU\n",
    "from keras import optimizers, layers\n",
    "from tensorflow import math\n",
    "import warnings\n",
    "warnings.filterwarnings('ignore')"
   ]
  },
  {
   "cell_type": "code",
   "execution_count": 16,
   "metadata": {
    "id": "DTXjIAx0W9DI"
   },
   "outputs": [],
   "source": [
    "import statistics\n",
    "\n",
    "rain = pd.read_csv(\"./Data/Rainfall.csv\")\n",
    "\n",
    "lpa = statistics.mean(list(rain['Jun-Sep'][12:41]))\n",
    "rain_fall_data = list(rain['Jun-Sep'])"
   ]
  },
  {
   "cell_type": "code",
   "execution_count": 17,
   "metadata": {
    "colab": {
     "base_uri": "https://localhost:8080/"
    },
    "id": "Fwu9h_TuSK93",
    "outputId": "ac1cf7b5-adc4-42d9-be5e-1001831eef75"
   },
   "outputs": [],
   "source": [
    "import glob\n",
    "\n",
    "slp_path  = \"./Data/slp/*\"\n",
    "uwnd_path  = \"./Data/uwnd/*\"\n",
    "sst_path = \"./Data/sst/*\"\n",
    "paths = [slp_path, uwnd_path, sst_path]\n",
    "\n",
    "months = []\n",
    "for path in paths:\n",
    "  temp = []\n",
    "  for i in glob.glob(path):\n",
    "    temp.append(i)\n",
    "  months.append(temp)"
   ]
  },
  {
   "cell_type": "code",
   "execution_count": 18,
   "metadata": {},
   "outputs": [],
   "source": [
    "s, e = 0, 52"
   ]
  },
  {
   "cell_type": "code",
   "execution_count": 19,
   "metadata": {
    "id": "7MhPzk45Ry1d"
   },
   "outputs": [],
   "source": [
    "for month in range(5):\n",
    "    month_path = [months[0][month], months[1][month], months[2][month]]\n",
    "    month_data = [pd.read_csv(month_path[0], header=[0, 1], index_col=0), pd.read_csv(month_path[1], header=[0, 1], index_col=0), pd.read_csv(month_path[2], header=[0, 1], index_col=0)]\n",
    "    combine = np.concatenate((np.array(month_data[0][:67]), np.array(month_data[1][:67]), np.array(month_data[2][:67])), axis=1)"
   ]
  },
  {
   "cell_type": "markdown",
   "metadata": {},
   "source": [
    "## Auto-Encoders (SLP-SST)"
   ]
  },
  {
   "cell_type": "code",
   "execution_count": 20,
   "metadata": {},
   "outputs": [],
   "source": [
    "def get_model_857(n_inputs=857):\n",
    "    visible = Input(shape=(n_inputs,))\n",
    "    e = Dense(n_inputs)(visible)\n",
    "    e = ReLU()(e)\n",
    "    bottleneck = Dense(350)(e)\n",
    "    output = Dense(n_inputs, activation='linear')(bottleneck)\n",
    "    model = Model(inputs=visible, outputs=output)\n",
    "    model.compile(optimizer='adam', loss='mse')\n",
    "    return model"
   ]
  },
  {
   "cell_type": "markdown",
   "metadata": {},
   "source": [
    "- 194 - 58 - 194"
   ]
  },
  {
   "cell_type": "code",
   "execution_count": 21,
   "metadata": {},
   "outputs": [],
   "source": [
    "def get_model_350(n_inputs=350):\n",
    "    visible = Input(shape=(n_inputs,))\n",
    "    e = Dense(n_inputs)(visible)\n",
    "    e = ReLU()(e)\n",
    "    bottleneck = Dense(70)(e)\n",
    "    output = Dense(n_inputs, activation='linear')(bottleneck)\n",
    "    model = Model(inputs=visible, outputs=output)\n",
    "    model.compile(optimizer='adam', loss='mse')\n",
    "    return model"
   ]
  },
  {
   "cell_type": "markdown",
   "metadata": {},
   "source": [
    "- 58 - 17 - 58"
   ]
  },
  {
   "cell_type": "code",
   "execution_count": 22,
   "metadata": {},
   "outputs": [],
   "source": [
    "def get_model_70(n_inputs=70):\n",
    "    visible = Input(shape=(n_inputs,))\n",
    "    e = Dense(n_inputs)(visible)\n",
    "    e = ReLU()(e)\n",
    "    bottleneck = Dense(25)(e)\n",
    "    output = Dense(n_inputs, activation='linear')(bottleneck)\n",
    "    model = Model(inputs=visible, outputs=output)\n",
    "    model.compile(optimizer='adam', loss='mse')\n",
    "    return model"
   ]
  },
  {
   "cell_type": "markdown",
   "metadata": {},
   "source": [
    "#### Final Auto Encoder\n",
    "- 857 - 350 - 70 - 25 - 70 - 350 - 857"
   ]
  },
  {
   "cell_type": "code",
   "execution_count": 23,
   "metadata": {},
   "outputs": [],
   "source": [
    "def get_model_final_857(n_inputs=857):\n",
    "    visible = Input(shape=(n_inputs,))\n",
    "    e = Dense(n_inputs)(visible)\n",
    "    e = ReLU()(e)\n",
    "    e = Dense(350)(e)\n",
    "    e = ReLU()(e)\n",
    "    e = Dense(70)(e)\n",
    "    e = ReLU()(e)\n",
    "    bottleneck = Dense(25)(e)\n",
    "    e = Dense(70)(bottleneck)\n",
    "    e = ReLU()(e)\n",
    "    e = Dense(350)(e)\n",
    "    e = ReLU()(e)\n",
    "    output = Dense(n_inputs, activation='linear')(e)\n",
    "    model = Model(inputs=visible, outputs=output)\n",
    "    model.compile(optimizer='adam', loss='mse')\n",
    "    return model"
   ]
  },
  {
   "cell_type": "markdown",
   "metadata": {},
   "source": [
    "# Training"
   ]
  },
  {
   "cell_type": "code",
   "execution_count": 24,
   "metadata": {},
   "outputs": [],
   "source": [
    "class Custom_Layer(layers.Layer):\n",
    "    def __init__(self, weights, bias=False):\n",
    "        super(Custom_Layer, self).__init__()\n",
    "        self.w = weights\n",
    "        if bias:\n",
    "            self.b = bias\n",
    "\n",
    "    def call(self, inputs):\n",
    "        try: return tf.matmul(inputs, self.w) + self.b\n",
    "        except: return tf.matmul(inputs, self.w)"
   ]
  },
  {
   "cell_type": "code",
   "execution_count": 25,
   "metadata": {
    "id": "Ro59dTSxWVXD"
   },
   "outputs": [],
   "source": [
    "def predictor(month,mod):\n",
    "    month_path = [months[0][month], months[1][month], months[2][month]]\n",
    "    month_data = [pd.read_csv(month_path[0], header=[0, 1], index_col=0), pd.read_csv(month_path[1], header=[0, 1], index_col=0), pd.read_csv(month_path[2], header=[0, 1], index_col=0)]\n",
    "    combine = np.concatenate((np.array(month_data[0]), np.array(month_data[1]), np.array(month_data[2])), axis=1)\n",
    "    pred = models[mod](combine)\n",
    "    return np.array(pred)"
   ]
  },
  {
   "cell_type": "code",
   "execution_count": 26,
   "metadata": {},
   "outputs": [],
   "source": [
    "from sklearn.svm import SVR\n",
    "from scipy.stats import pearsonr\n",
    "from scipy.stats import spearmanr\n",
    "\n",
    "\n",
    "def get_top_pred(top,pred_info,w_start,w_end):\n",
    "    pred_f = pred_info\n",
    "    cor_list = []\n",
    "    for i in range(len(pred_f[0])):\n",
    "        score = []\n",
    "        for j in range(w_start,w_end):\n",
    "            score.append(pred_f[j][i])\n",
    "        corr, _ = pearsonr(rain_fall_data[w_start:w_end],score)\n",
    "        cor_list.append(corr)\n",
    "    list1=list(enumerate(cor_list))\n",
    "    list2=sorted(list1, key=lambda x: x[1],reverse=True)\n",
    "    top_feature_index = []\n",
    "    for i in range(top):\n",
    "        try: index = list2[i][0]\n",
    "        except: continue\n",
    "        top_feature_index.append(index)\n",
    "    predictor = []\n",
    "    for i in range(len(pred_f)):\n",
    "        temp = []\n",
    "        for j in top_feature_index:\n",
    "            feature = pred_f[i][j]\n",
    "            temp.append(feature)\n",
    "        predictor.append(temp)\n",
    "    return predictor\n",
    "\n",
    "\n",
    "def get_predictors(months,top,models,w_start,w_end):\n",
    "    for i in months:\n",
    "        for mod in range(len(models)):\n",
    "            y_pred = predictor(i,mod)\n",
    "            b = get_top_pred(top, y_pred, w_start,w_end)\n",
    "            try:    pred = np.concatenate((pred,b), axis=1)\n",
    "            except: pred = np.array(b)\n",
    "    return pred\n",
    "\n",
    "def window_solution(months,top):\n",
    "    reg = SVR(kernel = 'rbf',C=1.0,epsilon=0.45)\n",
    "    cor_all = [[], []]\n",
    "    for window in range(20,67):\n",
    "        score = []\n",
    "        pred = get_predictors(months,top,models,67-window,67)\n",
    "        for i in range(10):\n",
    "            reg.fit(pred[67-window:61+i], rain_fall_data[67-window:61+i])\n",
    "            score.append(reg.predict([pred[61+i]])[0])\n",
    "        cor_all[0].append(pearsonr(rain_fall_data[61:71],score)[0])\n",
    "        cor_all[1].append(spearmanr(rain_fall_data[61:71],score)[0])\n",
    "    return [min(cor_all[0]), max(cor_all[0])], [min(cor_all[1]), max(cor_all[1])]\n",
    "\n",
    "def get_best_predictions(months, top, s, e):\n",
    "    reg = SVR(kernel = 'rbf',C=1.0,epsilon=0.45)\n",
    "    r_data = rain_fall_data[61:71]\n",
    "    cor_all = []\n",
    "    for window in range(20,67):\n",
    "        score = []\n",
    "        pred = get_predictors(months,top,models,67-window,67)\n",
    "        for i in range(61, 71):\n",
    "            reg.fit(pred[67-window:i], rain_fall_data[67-window:i])\n",
    "            score.append(reg.predict([pred[i]])[0])\n",
    "        corr = max(abs(np.array([pearsonr(r_data,score)[0], spearmanr(r_data,score)[0]])))\n",
    "        if(cor_all == [] or (cor_all != [] and corr > max(abs(np.array(cor_all))))):\n",
    "            w = reg.predict(pred[s:e])\n",
    "        cor_all.append(corr)\n",
    "    return w"
   ]
  },
  {
   "cell_type": "code",
   "execution_count": 55,
   "metadata": {},
   "outputs": [],
   "source": [
    "model_final = keras.models.load_model(\"./Data/7 all model (0.8600).h5\")\n",
    "\n",
    "std = []\n",
    "for i in model_final.layers:\n",
    "    try: std.append(np.array(math.reduce_std(i.weights[0])) * 2)\n",
    "    except: std.append([])\n",
    "\n",
    "final_layers = keras.Sequential([Input(shape=(None, 857))])\n",
    "for i, layer in enumerate(model_final.layers):\n",
    "    try:\n",
    "        temp_layer = []\n",
    "        for ind, j in enumerate(layer.weights[0]):\n",
    "            temp_weights = []\n",
    "            for index, k in enumerate(j):\n",
    "                if k < std[i]: temp_weights.append(0)\n",
    "                else:          temp_weights.append(1)  \n",
    "            temp_layer.append(temp_weights)\n",
    "        weights = tf.Variable(temp_layer, dtype='float32')\n",
    "        try: final_layers.add(Custom_Layer(weights, bias=layer.weights[1]))\n",
    "        except: final_layers.add(Custom_Layer(weights))\n",
    "    except IndexError: final_layers.add(layer)\n",
    "\n",
    "final_layers.compile(optimizer='adam', loss='mse')\n",
    "final_layers.build(input_shape=(None, 857))\n",
    "\n",
    "\n",
    "final_layers1 = Model(inputs=final_layers.input, outputs=final_layers.layers[3].output)\n",
    "final_layers1.trainable = False\n",
    "\n",
    "final_layers2 = Model(inputs=final_layers.input, outputs=final_layers.layers[5].output)\n",
    "final_layers2.trainable = False\n",
    "\n",
    "final_layers3 = Model(inputs=final_layers.input, outputs=final_layers.layers[7].output)\n",
    "final_layers3.trainable = False"
   ]
  },
  {
   "cell_type": "code",
   "execution_count": 56,
   "metadata": {},
   "outputs": [
    {
     "name": "stdout",
     "output_type": "stream",
     "text": [
      "1 [-0.5698592518023688, -0.30547966182733166] [-0.40130338439567786, -0.40130338439567786]\n",
      "2 [-0.8369923868562004, -0.27457537266804277] [-0.8909090909090909, -0.11515151515151514]\n",
      "3 [-0.8583872024688342, -0.27531195525414465] [-0.8666666666666665, -0.17575757575757575]\n",
      "4 [-0.8600005754847025, -0.23122369986278848] [-0.8666666666666665, -0.07878787878787878]\n",
      "5 [-0.8276406057461776, -0.23374073736071901] [-0.8666666666666665, -0.07878787878787878]\n",
      "6 [-0.8272144385278017, -0.20875155572339413] [-0.8424242424242423, -0.09090909090909088]\n",
      "7 [-0.7354245921224698, -0.17108262635716504] [-0.7212121212121211, 0.006060606060606061]\n",
      "8 [-0.7348252613244288, -0.15428380179694628] [-0.6727272727272726, 0.006060606060606061]\n",
      "\n",
      " [-0.8600005754847025, -0.15428380179694628] [-0.8909090909090909, 0.006060606060606061]\n"
     ]
    }
   ],
   "source": [
    "months_comb = [[4]]\n",
    "top = 9\n",
    "models = [final_layers1, final_layers2, final_layers3]\n",
    "\n",
    "min_p, max_p = 1, -1\n",
    "min_s, max_s = 1, -1\n",
    "best = 0\n",
    "for month in months_comb:\n",
    "    for j in range(1,top):\n",
    "        plcc, srcc = window_solution(month,j)\n",
    "        print(j, plcc, srcc)\n",
    "        if min_p > min(plcc): min_p = min(plcc)\n",
    "        if min_s > min(srcc): min_s = min(srcc)\n",
    "        if max_p < max(plcc): max_p = max(plcc)\n",
    "        if max_s < max(srcc): max_s = max(srcc)\n",
    "        if best <= max(abs(np.array(plcc+srcc))): best, best_top = max(abs(np.array(plcc+srcc))), j\n",
    "print(\"\\n\", [min_p, max_p], [min_s, max_s])"
   ]
  },
  {
   "cell_type": "markdown",
   "metadata": {},
   "source": [
    "## Normalizating the predictions"
   ]
  },
  {
   "cell_type": "code",
   "execution_count": 57,
   "metadata": {},
   "outputs": [
    {
     "data": {
      "text/plain": [
       "array([885.05031436, 884.15133189, 884.51586426, 884.34545846,\n",
       "       884.63540043, 886.77127935, 884.13484724, 885.15996639,\n",
       "       885.59420861, 885.76547164])"
      ]
     },
     "execution_count": 57,
     "metadata": {},
     "output_type": "execute_result"
    }
   ],
   "source": [
    "s, e = 61, 71\n",
    "l = e - s\n",
    "predictions = get_best_predictions([4], best_top, s, e)\n",
    "predictions"
   ]
  },
  {
   "cell_type": "code",
   "execution_count": 58,
   "metadata": {},
   "outputs": [],
   "source": [
    "from sklearn.linear_model import LinearRegression\n",
    "\n",
    "years = np.array([[i] for i in range(1949+s, 1949+e)])\n",
    "predictions = np.array(predictions).reshape(-1,1)\n",
    "rain_data = np.array(rain_fall_data[s:e]).reshape(-1,1)\n",
    "\n",
    "x, y, z = years, predictions, rain_data\n",
    "\n",
    "lr_1, lr_2 = LinearRegression(), LinearRegression()\n",
    "lr_1.fit(x, y), lr_2.fit(x, z)\n",
    "\n",
    "p1_x, p2_x = 1949+s, 1949+e-1\n",
    "p1_y, p2_y = lr_1.predict([[p1_x], [p2_x]])\n",
    "p1, p2 = np.array([p1_x, p1_y]), np.array([p2_x, p2_y])\n",
    "\n",
    "p3_x, p4_x = 1949+s, 1949+e-1\n",
    "p3_y, p4_y = lr_1.predict([[p3_x], [p4_x]])\n",
    "p3, p4 = np.array([p3_x, p3_y]), np.array([p4_x, p4_y])\n",
    "\n",
    "p5 = np.concatenate((x, predictions), axis=1)\n",
    "p6 = np.concatenate((x, rain_data), axis=1)\n",
    "\n",
    "d_1 = (np.cross(p2-p1, p1-p5)) / np.linalg.norm(p2-p1)\n",
    "d_2 = (np.cross(p4-p3, p3-p6)) / np.linalg.norm(p4-p3)\n",
    "\n",
    "multipliyer = sum(abs(d_2/d_1)) /14\n",
    "\n",
    "difference = multipliyer * d_1\n",
    "result = []\n",
    "for i, j in zip(y, difference):\n",
    "    result.append(i[0] - j[0])\n",
    "\n",
    "error = (np.array(result).reshape(-1,1) - rain_data)/rain_data * 100"
   ]
  },
  {
   "cell_type": "markdown",
   "metadata": {},
   "source": [
    "### Visualization"
   ]
  },
  {
   "cell_type": "code",
   "execution_count": 59,
   "metadata": {},
   "outputs": [],
   "source": [
    "bestFit_pred = lr_1.predict(x)\n",
    "bestFit_rain = lr_2.predict(x)"
   ]
  },
  {
   "cell_type": "code",
   "execution_count": 60,
   "metadata": {},
   "outputs": [
    {
     "data": {
      "text/plain": [
       "[<matplotlib.lines.Line2D at 0x2595be3ef08>]"
      ]
     },
     "execution_count": 60,
     "metadata": {},
     "output_type": "execute_result"
    },
    {
     "data": {
      "image/png": "[encoded data removed]",
      "text/plain": [
       "<Figure size 432x288 with 1 Axes>"
      ]
     },
     "metadata": {
      "needs_background": "light"
     },
     "output_type": "display_data"
    }
   ],
   "source": [
    "import matplotlib.pyplot as plt\n",
    "\n",
    "plt.scatter(years, predictions, color=\"black\")\n",
    "plt.plot(years, bestFit_pred, color=\"blue\", linewidth=3)"
   ]
  },
  {
   "cell_type": "code",
   "execution_count": 61,
   "metadata": {},
   "outputs": [
    {
     "data": {
      "text/plain": [
       "[<matplotlib.lines.Line2D at 0x259649a64c8>]"
      ]
     },
     "execution_count": 61,
     "metadata": {},
     "output_type": "execute_result"
    },
    {
     "data": {
      "image/png": "[encoded data removed]",
      "text/plain": [
       "<Figure size 432x288 with 1 Axes>"
      ]
     },
     "metadata": {
      "needs_background": "light"
     },
     "output_type": "display_data"
    }
   ],
   "source": [
    "plt.scatter(years, rain_data, color=\"red\")\n",
    "plt.plot(years, bestFit_rain, color=\"blue\", linewidth=3)"
   ]
  },
  {
   "cell_type": "code",
   "execution_count": 62,
   "metadata": {},
   "outputs": [
    {
     "data": {
      "text/plain": [
       "<matplotlib.collections.PathCollection at 0x25964a21408>"
      ]
     },
     "execution_count": 62,
     "metadata": {},
     "output_type": "execute_result"
    },
    {
     "data": {
      "image/png": "[encoded data removed]",
      "text/plain": [
       "<Figure size 432x288 with 1 Axes>"
      ]
     },
     "metadata": {
      "needs_background": "light"
     },
     "output_type": "display_data"
    }
   ],
   "source": [
    "plt.scatter(years, predictions, color=\"black\")\n",
    "plt.scatter(years, rain_data, color=\"red\")"
   ]
  },
  {
   "cell_type": "markdown",
   "metadata": {},
   "source": [
    "## Final Predictions"
   ]
  },
  {
   "cell_type": "code",
   "execution_count": 63,
   "metadata": {},
   "outputs": [],
   "source": [
    "s_p, e_p = 61, 74\n",
    "l_p = e_p - s_p\n",
    "\n",
    "predictions_n = get_best_predictions([4], best_top, s_p, e_p)\n",
    "\n",
    "x_p = np.array(range(1949+s_p, 1949+e_p)).reshape(-1, 1)\n",
    "predictions_n = np.array(predictions_n).reshape(-1, 1)\n",
    "\n",
    "p3 = np.concatenate((x_p, predictions_n), axis=1)\n",
    "\n",
    "d_1 = (np.cross(p2-p1, p1-p3)) / np.linalg.norm(p2-p1)\n",
    "\n",
    "difference = multipliyer * d_1\n",
    "result = []\n",
    "for i, j in zip(predictions_n, difference):\n",
    "    result.append(i[0] + j[0])"
   ]
  },
  {
   "cell_type": "code",
   "execution_count": 64,
   "metadata": {},
   "outputs": [
    {
     "data": {
      "text/plain": [
       "array([[2010.        ,  911.1       ,  777.88486614],\n",
       "       [2011.        ,  901.3       ,  955.29256245],\n",
       "       [2012.        ,  823.9       ,  914.77241559],\n",
       "       [2013.        ,  937.2       ,  966.51705171],\n",
       "       [2014.        ,  782.1       ,  938.86206974],\n",
       "       [2015.        ,  765.8       ,  592.82455082],\n",
       "       [2016.        ,  864.4       , 1069.90316565],\n",
       "       [2017.        ,  845.9       ,  915.44668317],\n",
       "       [2018.        ,  802.7       ,  862.9031581 ],\n",
       "       [2019.        ,  994.4       ,  855.71761926],\n",
       "       [2020.        ,  958.1       ,  791.0706549 ],\n",
       "       [2021.        ,  874.6       ,  771.52480882]])"
      ]
     },
     "execution_count": 64,
     "metadata": {},
     "output_type": "execute_result"
    }
   ],
   "source": [
    "np.concatenate((np.arange(1949+s_p, 1949+e_p-1).reshape(-1, 1), np.array(rain_fall_data[s_p:e_p]).reshape(-1, 1), np.array(result[:-1]).reshape(-1, 1)), axis=1)\n",
    "\n",
    "# Year        Rainfall Data        Predicton"
   ]
  },
  {
   "cell_type": "code",
   "execution_count": 65,
   "metadata": {},
   "outputs": [
    {
     "data": {
      "text/plain": [
       "Text(0.5, 1.0, 'Predictions using SLP-UWND-SST\\n')"
      ]
     },
     "execution_count": 65,
     "metadata": {},
     "output_type": "execute_result"
    },
    {
     "data": {
      "image/png": "[encoded data removed]",
      "text/plain": [
       "<Figure size 432x288 with 1 Axes>"
      ]
     },
     "metadata": {
      "needs_background": "light"
     },
     "output_type": "display_data"
    }
   ],
   "source": [
    "plt.scatter(years, rain_data, color=\"red\", label='Original Rainfall') \n",
    "plt.plot(years, rain_data, color=\"red\", linewidth=1.5)          \n",
    "plt.plot(x_p, np.ones(len(x_p)) * lpa, color=\"black\", linestyle='dashed', label=\"Long Period Average\")\n",
    "plt.scatter(x_p, result, color=\"blue\", label='Predicted Rainfall')\n",
    "plt.plot(x_p, result, color=\"blue\", linewidth=1.5)\n",
    "plt.legend(fontsize=\"9\", loc=\"lower left\")      \n",
    "plt.xlabel('Time (years)', fontsize=14)\n",
    "plt.ylabel('Rainfall (mm)', fontsize=14)\n",
    "plt.title('Predictions using SLP-UWND-SST\\n', fontsize=16)"
   ]
  },
  {
   "cell_type": "markdown",
   "metadata": {},
   "source": [
    "## Calculating Error in Prediciton of the year 2020 - 2021"
   ]
  },
  {
   "cell_type": "code",
   "execution_count": 66,
   "metadata": {},
   "outputs": [
    {
     "data": {
      "text/plain": [
       "13.338481720442047"
      ]
     },
     "execution_count": 66,
     "metadata": {},
     "output_type": "execute_result"
    }
   ],
   "source": [
    "error = (np.array(result[:-1]) - np.array(rain_fall_data[s_p:e_p-1]))/np.array(rain_fall_data[s_p:e_p]) * 100\n",
    "abs(error).mean()"
   ]
  },
  {
   "cell_type": "code",
   "execution_count": 67,
   "metadata": {},
   "outputs": [
    {
     "data": {
      "text/plain": [
       "876.6913374282741"
      ]
     },
     "execution_count": 67,
     "metadata": {},
     "output_type": "execute_result"
    }
   ],
   "source": [
    "result[-1]"
   ]
  }
 ],
 "metadata": {
  "interpreter": {
   "hash": "7a1ec7127a1b5f2b59363b2f8f95e2eb75381aad515e22ffb14e745090963568"
  },
  "kernelspec": {
   "display_name": "Python 3.7.7 64-bit",
   "language": "python",
   "name": "python3"
  },
  "language_info": {
   "codemirror_mode": {
    "name": "ipython",
    "version": 3
   },
   "file_extension": ".py",
   "mimetype": "text/x-python",
   "name": "python",
   "nbconvert_exporter": "python",
   "pygments_lexer": "ipython3",
   "version": "3.7.7"
  },
  "orig_nbformat": 4
 },
 "nbformat": 4,
 "nbformat_minor": 2
}
