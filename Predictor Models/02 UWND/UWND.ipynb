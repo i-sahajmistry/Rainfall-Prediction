{
 "cells": [
  {
   "cell_type": "code",
   "execution_count": 43,
   "metadata": {
    "id": "7MhPzk45Ry1d"
   },
   "outputs": [],
   "source": [
    "import pandas as pd\n",
    "import numpy as np\n",
    "import tensorflow as tf\n",
    "import keras\n",
    "from keras.models import Model\n",
    "from keras.layers import Input, Dense, ReLU\n",
    "from keras import optimizers, layers\n",
    "from tensorflow import math\n",
    "import warnings\n",
    "warnings.filterwarnings('ignore')"
   ]
  },
  {
   "cell_type": "code",
   "execution_count": 44,
   "metadata": {
    "id": "DTXjIAx0W9DI"
   },
   "outputs": [],
   "source": [
    "import statistics\n",
    "\n",
    "rain = pd.read_csv(\"./Data/Rainfall.csv\")\n",
    "\n",
    "lpa = statistics.mean(list(rain['Jun-Sep'][12:41]))\n",
    "rain_fall_data = list(rain['Jun-Sep'])"
   ]
  },
  {
   "cell_type": "code",
   "execution_count": 45,
   "metadata": {
    "colab": {
     "base_uri": "https://localhost:8080/"
    },
    "id": "Fwu9h_TuSK93",
    "outputId": "ac1cf7b5-adc4-42d9-be5e-1001831eef75"
   },
   "outputs": [],
   "source": [
    "import glob\n",
    "\n",
    "uwnd_path = \"./Data/uwnd/*\"\n",
    "\n",
    "uwnd_months = []\n",
    "for i in glob.glob(uwnd_path):\n",
    "  uwnd_months.append(i)\n",
    "  "
   ]
  },
  {
   "cell_type": "code",
   "execution_count": 46,
   "metadata": {},
   "outputs": [],
   "source": [
    "for month in range(5):\n",
    "    month_path = uwnd_months[month]\n",
    "    month_data = pd.read_csv(month_path, header=[0, 1], index_col=0)\n",
    "    data = np.array(month_data[:67])"
   ]
  },
  {
   "cell_type": "markdown",
   "metadata": {},
   "source": [
    "## Auto-Encoders (SLP or UWND)"
   ]
  },
  {
   "cell_type": "markdown",
   "metadata": {},
   "source": [
    "- 324 - 97 - 324"
   ]
  },
  {
   "cell_type": "code",
   "execution_count": 47,
   "metadata": {},
   "outputs": [],
   "source": [
    "def get_model_324(n_inputs=324):\n",
    "    visible = Input(shape=(n_inputs,))\n",
    "    e = Dense(n_inputs)(visible)\n",
    "    e = ReLU()(e)\n",
    "    bottleneck = Dense(97)(e)\n",
    "    output = Dense(n_inputs, activation='linear')(bottleneck)\n",
    "    model = Model(inputs=visible, outputs=output)\n",
    "    model.compile(optimizer='adam', loss='mse')\n",
    "    return model"
   ]
  },
  {
   "cell_type": "markdown",
   "metadata": {},
   "source": [
    "- 97 - 29 - 97"
   ]
  },
  {
   "cell_type": "code",
   "execution_count": 48,
   "metadata": {},
   "outputs": [],
   "source": [
    "def get_model_97(n_inputs=97):\n",
    "    visible = Input(shape=(n_inputs,))\n",
    "    e = Dense(n_inputs)(visible)\n",
    "    e = ReLU()(e)\n",
    "    bottleneck = Dense(29)(e)\n",
    "    output = Dense(n_inputs, activation='linear')(bottleneck)\n",
    "    model = Model(inputs=visible, outputs=output)\n",
    "    model.compile(optimizer='adam', loss='mse')\n",
    "    return model"
   ]
  },
  {
   "cell_type": "markdown",
   "metadata": {},
   "source": [
    "- 29 - 9 - 29"
   ]
  },
  {
   "cell_type": "code",
   "execution_count": 49,
   "metadata": {},
   "outputs": [],
   "source": [
    "def get_model_29(n_inputs=29):\n",
    "    visible = Input(shape=(n_inputs,))\n",
    "    e = Dense(n_inputs)(visible)\n",
    "    e = ReLU()(e)\n",
    "    bottleneck = Dense(9)(e)\n",
    "    output = Dense(n_inputs, activation='linear')(bottleneck)\n",
    "    model = Model(inputs=visible, outputs=output)\n",
    "    model.compile(optimizer='adam', loss='mse')\n",
    "    return model"
   ]
  },
  {
   "cell_type": "markdown",
   "metadata": {},
   "source": [
    "#### Final Auto Encoder\n",
    "- 324 - 97 - 29 - 9 - 29 - 97 - 324"
   ]
  },
  {
   "cell_type": "code",
   "execution_count": 50,
   "metadata": {},
   "outputs": [],
   "source": [
    "def get_model_final_324(n_inputs=324):\n",
    "    visible = Input(shape=(n_inputs,))\n",
    "    e = Dense(n_inputs)(visible)\n",
    "    e = ReLU()(e)\n",
    "    e = Dense(97)(e)\n",
    "    e = ReLU()(e)\n",
    "    e = Dense(29)(e)\n",
    "    e = ReLU()(e)\n",
    "    bottleneck = Dense(9)(e)\n",
    "    e = Dense(29)(bottleneck)\n",
    "    e = ReLU()(e)\n",
    "    e = Dense(97)(e)\n",
    "    e = ReLU()(e)\n",
    "    output = Dense(n_inputs, activation='linear')(e)\n",
    "    model = Model(inputs=visible, outputs=output)\n",
    "    model.compile(optimizer='adam', loss='mse')\n",
    "    return model"
   ]
  },
  {
   "cell_type": "code",
   "execution_count": 51,
   "metadata": {},
   "outputs": [],
   "source": [
    "class Custom_Layer(layers.Layer):\n",
    "    def __init__(self, weights, bias=False):\n",
    "        super(Custom_Layer, self).__init__()\n",
    "        self.w = weights\n",
    "        if bias:\n",
    "            self.b = bias\n",
    "\n",
    "    def call(self, inputs):\n",
    "        try: return tf.matmul(inputs, self.w) + self.b\n",
    "        except: return tf.matmul(inputs, self.w)"
   ]
  },
  {
   "cell_type": "code",
   "execution_count": 52,
   "metadata": {},
   "outputs": [],
   "source": [
    "def predictor(month,mod):\n",
    "    month_path = uwnd_months[month]\n",
    "    month_data = pd.read_csv(month_path, header=[0, 1], index_col=0)\n",
    "    feature = np.array(month_data)\n",
    "    pred = models[mod](feature)\n",
    "    pred = pred.numpy()\n",
    "    return pred"
   ]
  },
  {
   "cell_type": "code",
   "execution_count": 53,
   "metadata": {},
   "outputs": [],
   "source": [
    "from sklearn.svm import SVR\n",
    "from scipy.stats import pearsonr\n",
    "from scipy.stats import spearmanr\n",
    "\n",
    "\n",
    "def get_top_pred(top,pred_info,w_start,w_end):\n",
    "    pred_f = pred_info\n",
    "    cor_list = []\n",
    "    for i in range(len(pred_f[0])):\n",
    "        score = []\n",
    "        for j in range(w_start,w_end):\n",
    "            score.append(pred_f[j][i])\n",
    "        corr, _ = pearsonr(rain_fall_data[w_start:w_end],score)\n",
    "        cor_list.append(corr)\n",
    "    list1=list(enumerate(cor_list))\n",
    "    list2=sorted(list1, key=lambda x: x[1],reverse=True)\n",
    "    top_feature_index = []\n",
    "    for i in range(top):\n",
    "        try: index = list2[i][0]\n",
    "        except: continue\n",
    "        top_feature_index.append(index)\n",
    "    predictor = []\n",
    "    for i in range(len(pred_f)):\n",
    "        temp = []\n",
    "        for j in top_feature_index:\n",
    "            feature = pred_f[i][j]\n",
    "            temp.append(feature)\n",
    "        predictor.append(temp)\n",
    "    return predictor\n",
    "\n",
    "\n",
    "def get_predictors(months,top,models,w_start,w_end):\n",
    "    for i in months:\n",
    "        for mod in range(len(models)):\n",
    "            y_pred = predictor(i,mod)\n",
    "            b = get_top_pred(top, y_pred, w_start,w_end)\n",
    "            try:    pred = np.concatenate((pred,b), axis=1)\n",
    "            except: pred = np.array(b)\n",
    "    return pred\n",
    "\n",
    "def window_solution(months,top):\n",
    "    reg = SVR(kernel = 'rbf',C=1.0,epsilon=0.45)\n",
    "    cor_all = [[], []]\n",
    "    for window in range(20,67):\n",
    "        score = []\n",
    "        pred = get_predictors(months,top,models,67-window,67)\n",
    "        for i in range(10):\n",
    "            reg.fit(pred[67-window:61+i], rain_fall_data[67-window:61+i])\n",
    "            score.append(reg.predict([pred[61+i]])[0])\n",
    "        cor_all[0].append(pearsonr(rain_fall_data[61:71],score)[0])\n",
    "        cor_all[1].append(spearmanr(rain_fall_data[61:71],score)[0])\n",
    "    return [min(cor_all[0]), max(cor_all[0])], [min(cor_all[1]), max(cor_all[1])]\n",
    "\n",
    "def get_best_predictions(months, top, s, e):\n",
    "    reg = SVR(kernel = 'rbf',C=1.0,epsilon=0.45)\n",
    "    r_data = rain_fall_data[61:71]\n",
    "    cor_all = []\n",
    "    for window in range(20,67):\n",
    "        score = []\n",
    "        pred = get_predictors(months,top,models,67-window,67)\n",
    "        for i in range(61, 71):\n",
    "            reg.fit(pred[67-window:i], rain_fall_data[67-window:i])\n",
    "            score.append(reg.predict([pred[i]])[0])\n",
    "        corr = max(abs(np.array([pearsonr(r_data,score)[0], spearmanr(r_data,score)[0]])))\n",
    "        if(cor_all == [] or (cor_all != [] and corr > max(abs(np.array(cor_all))))):\n",
    "            w = reg.predict(pred[s:e])\n",
    "        cor_all.append(corr)\n",
    "    return w"
   ]
  },
  {
   "cell_type": "code",
   "execution_count": 139,
   "metadata": {},
   "outputs": [],
   "source": [
    "model_final = keras.models.load_model(\"./Data/2 uwnd model (0.8803).h5\")\n",
    "\n",
    "std = []\n",
    "for i in model_final.layers:\n",
    "    try: std.append(np.array(math.reduce_std(i.weights[0])) * 2)\n",
    "    except: std.append([])\n",
    "\n",
    "final_layers = keras.Sequential([Input(shape=(None, 324))])\n",
    "for i, layer in enumerate(model_final.layers):\n",
    "    try:\n",
    "        temp_layer = []\n",
    "        for ind, j in enumerate(layer.weights[0]):\n",
    "            temp_weights = []\n",
    "            for index, k in enumerate(j):\n",
    "                if k < std[i]: temp_weights.append(0)\n",
    "                else:          temp_weights.append(1)  \n",
    "            temp_layer.append(temp_weights)\n",
    "        weights = tf.Variable(temp_layer, dtype='float32')\n",
    "        try: final_layers.add(Custom_Layer(weights, bias=layer.weights[1]))\n",
    "        except: final_layers.add(Custom_Layer(weights))\n",
    "    except IndexError: final_layers.add(layer)\n",
    "\n",
    "final_layers.compile(optimizer='adam', loss='mse')\n",
    "final_layers.build(input_shape=(None, 324))\n",
    "\n",
    "\n",
    "final_layers1 = Model(inputs=final_layers.input, outputs=final_layers.layers[3].output)\n",
    "final_layers1.trainable = False\n",
    "\n",
    "final_layers2 = Model(inputs=final_layers.input, outputs=final_layers.layers[5].output)\n",
    "final_layers2.trainable = False\n",
    "\n",
    "final_layers3 = Model(inputs=final_layers.input, outputs=final_layers.layers[7].output)\n",
    "final_layers3.trainable = False"
   ]
  },
  {
   "cell_type": "code",
   "execution_count": 140,
   "metadata": {},
   "outputs": [
    {
     "name": "stdout",
     "output_type": "stream",
     "text": [
      "1 [-0.8024632223430104, -0.31648707335878207] [-0.7454545454545454, -0.29696969696969694]\n",
      "2 [-0.7850756924865965, -0.3173132120045936] [-0.7696969696969697, -0.2727272727272727]\n",
      "3 [-0.750653882108332, -0.3433071864159212] [-0.8181818181818182, -0.2727272727272727]\n",
      "4 [-0.7778283909408418, -0.34333147711532763] [-0.8181818181818182, -0.2727272727272727]\n",
      "5 [-0.7922103751628674, -0.3437112648537013] [-0.8181818181818182, -0.2727272727272727]\n",
      "6 [-0.8803736537368219, -0.34370874154259184] [-0.8909090909090909, -0.2727272727272727]\n",
      "7 [-0.8799039016470631, -0.3437068410449703] [-0.8909090909090909, -0.2727272727272727]\n",
      "8 [-0.8794367237014615, -0.34412185072526813] [-0.8909090909090909, -0.1515151515151515]\n",
      "\n",
      " [-0.8803736537368219, -0.31648707335878207] [-0.8909090909090909, -0.1515151515151515]\n"
     ]
    }
   ],
   "source": [
    "months_comb = [[4]]\n",
    "top = 9\n",
    "models = [final_layers1, final_layers2, final_layers3]\n",
    "\n",
    "min_p, max_p = 1, -1\n",
    "min_s, max_s = 1, -1\n",
    "best = 0\n",
    "for month in months_comb:\n",
    "    for j in range(1,top):\n",
    "        plcc, srcc = window_solution(month,j)\n",
    "        print(j, plcc, srcc)\n",
    "        if min_p > min(plcc): min_p = min(plcc)\n",
    "        if min_s > min(srcc): min_s = min(srcc)\n",
    "        if max_p < max(plcc): max_p = max(plcc)\n",
    "        if max_s < max(srcc): max_s = max(srcc)\n",
    "        if best <= max(abs(np.array(plcc+srcc))): best, best_top = max(abs(np.array(plcc+srcc))), j\n",
    "print(\"\\n\", [min_p, max_p], [min_s, max_s])"
   ]
  },
  {
   "cell_type": "markdown",
   "metadata": {},
   "source": [
    "## Normalizating the predictions"
   ]
  },
  {
   "cell_type": "code",
   "execution_count": 117,
   "metadata": {},
   "outputs": [
    {
     "data": {
      "text/plain": [
       "array([884.69930887, 884.33850924, 884.62646208, 884.30459483,\n",
       "       884.44644339, 884.78842696, 884.95589272, 884.45892091,\n",
       "       885.41542701, 884.99554483])"
      ]
     },
     "execution_count": 117,
     "metadata": {},
     "output_type": "execute_result"
    }
   ],
   "source": [
    "s, e = 61, 71\n",
    "l = e - s\n",
    "predictions = get_best_predictions([4], best_top, s, e)\n",
    "predictions"
   ]
  },
  {
   "cell_type": "code",
   "execution_count": 118,
   "metadata": {},
   "outputs": [],
   "source": [
    "from sklearn.linear_model import LinearRegression\n",
    "\n",
    "years = np.array([[i] for i in range(1949+s, 1949+e)])\n",
    "predictions = np.array(predictions).reshape(-1,1)\n",
    "rain_data = np.array(rain_fall_data[s:e]).reshape(-1,1)\n",
    "\n",
    "x, y, z = years, predictions, rain_data\n",
    "\n",
    "lr_1, lr_2 = LinearRegression(), LinearRegression()\n",
    "lr_1.fit(x, y), lr_2.fit(x, z)\n",
    "\n",
    "p1_x, p2_x = 1949+s, 1949+e-1\n",
    "p1_y, p2_y = lr_1.predict([[p1_x], [p2_x]])\n",
    "p1, p2 = np.array([p1_x, p1_y]), np.array([p2_x, p2_y])\n",
    "\n",
    "p3_x, p4_x = 1949+s, 1949+e-1\n",
    "p3_y, p4_y = lr_1.predict([[p3_x], [p4_x]])\n",
    "p3, p4 = np.array([p3_x, p3_y]), np.array([p4_x, p4_y])\n",
    "\n",
    "p5 = np.concatenate((x, predictions), axis=1)\n",
    "p6 = np.concatenate((x, rain_data), axis=1)\n",
    "\n",
    "d_1 = (np.cross(p2-p1, p1-p5)) / np.linalg.norm(p2-p1)\n",
    "d_2 = (np.cross(p4-p3, p3-p6)) / np.linalg.norm(p4-p3)\n",
    "\n",
    "multipliyer = sum(abs(d_2/d_1)) /14\n",
    "\n",
    "difference = multipliyer * d_1\n",
    "result = []\n",
    "for i, j in zip(y, difference):\n",
    "    result.append(i[0] + j[0])\n",
    "\n",
    "error = (np.array(result).reshape(-1,1) - rain_data)/rain_data * 100"
   ]
  },
  {
   "cell_type": "markdown",
   "metadata": {},
   "source": [
    "### Visualization"
   ]
  },
  {
   "cell_type": "code",
   "execution_count": 119,
   "metadata": {},
   "outputs": [],
   "source": [
    "bestFit_pred = lr_1.predict(x)\n",
    "bestFit_rain = lr_2.predict(x)"
   ]
  },
  {
   "cell_type": "code",
   "execution_count": 120,
   "metadata": {},
   "outputs": [
    {
     "data": {
      "text/plain": [
       "[<matplotlib.lines.Line2D at 0x1e9d13a9308>]"
      ]
     },
     "execution_count": 120,
     "metadata": {},
     "output_type": "execute_result"
    },
    {
     "data": {
      "image/png": "[encoded data removed]",
      "text/plain": [
       "<Figure size 432x288 with 1 Axes>"
      ]
     },
     "metadata": {
      "needs_background": "light"
     },
     "output_type": "display_data"
    }
   ],
   "source": [
    "import matplotlib.pyplot as plt\n",
    "\n",
    "plt.scatter(years, predictions, color=\"black\")\n",
    "plt.plot(years, bestFit_pred, color=\"blue\", linewidth=3)"
   ]
  },
  {
   "cell_type": "code",
   "execution_count": 121,
   "metadata": {},
   "outputs": [
    {
     "data": {
      "text/plain": [
       "[<matplotlib.lines.Line2D at 0x1e9d157f3c8>]"
      ]
     },
     "execution_count": 121,
     "metadata": {},
     "output_type": "execute_result"
    },
    {
     "data": {
      "image/png": "[encoded data removed]",
      "text/plain": [
       "<Figure size 432x288 with 1 Axes>"
      ]
     },
     "metadata": {
      "needs_background": "light"
     },
     "output_type": "display_data"
    }
   ],
   "source": [
    "plt.scatter(years, rain_data, color=\"red\")\n",
    "plt.plot(years, bestFit_rain, color=\"blue\", linewidth=3)"
   ]
  },
  {
   "cell_type": "code",
   "execution_count": 122,
   "metadata": {},
   "outputs": [
    {
     "data": {
      "text/plain": [
       "<matplotlib.collections.PathCollection at 0x1e9d2630448>"
      ]
     },
     "execution_count": 122,
     "metadata": {},
     "output_type": "execute_result"
    },
    {
     "data": {
      "image/png": "[encoded data removed]",
      "text/plain": [
       "<Figure size 432x288 with 1 Axes>"
      ]
     },
     "metadata": {
      "needs_background": "light"
     },
     "output_type": "display_data"
    }
   ],
   "source": [
    "plt.scatter(years, predictions, color=\"black\")\n",
    "plt.scatter(years, rain_data, color=\"red\")"
   ]
  },
  {
   "cell_type": "markdown",
   "metadata": {},
   "source": [
    "## Final Predictions"
   ]
  },
  {
   "cell_type": "code",
   "execution_count": 127,
   "metadata": {},
   "outputs": [],
   "source": [
    "s_p, e_p = 61, 74\n",
    "l_p = e_p - s_p\n",
    "\n",
    "predictions_n = get_best_predictions([4], best_top, s_p, e_p)\n",
    "\n",
    "x_p = np.array(range(1949+s_p, 1949+e_p)).reshape(-1, 1)\n",
    "predictions_n = np.array(predictions_n).reshape(-1, 1)\n",
    "\n",
    "p3 = np.concatenate((x_p, predictions_n), axis=1)\n",
    "\n",
    "d_1 = (np.cross(p2-p1, p1-p3)) / np.linalg.norm(p2-p1)\n",
    "\n",
    "difference = multipliyer * d_1\n",
    "result = []\n",
    "for i, j in zip(predictions_n, difference):\n",
    "    result.append(i[0] + j[0])"
   ]
  },
  {
   "cell_type": "code",
   "execution_count": 128,
   "metadata": {},
   "outputs": [
    {
     "data": {
      "text/plain": [
       "array([[2010.        ,  911.1       ,  693.13362419],\n",
       "       [2011.        ,  901.3       ,  955.65265812],\n",
       "       [2012.        ,  823.9       ,  823.56958257],\n",
       "       [2013.        ,  937.2       , 1062.40809006],\n",
       "       [2014.        ,  782.1       , 1019.19258235],\n",
       "       [2015.        ,  765.8       ,  854.24544197],\n",
       "       [2016.        ,  864.4       ,  795.44833818],\n",
       "       [2017.        ,  845.9       , 1140.79376928],\n",
       "       [2018.        ,  802.7       ,  602.06479527],\n",
       "       [2019.        ,  994.4       ,  900.52064884],\n",
       "       [2020.        ,  958.1       , 1350.66419424],\n",
       "       [2021.        ,  874.6       , 1376.23418357]])"
      ]
     },
     "execution_count": 128,
     "metadata": {},
     "output_type": "execute_result"
    }
   ],
   "source": [
    "np.concatenate((np.arange(1949+s_p, 1949+e_p-1).reshape(-1, 1), np.array(rain_fall_data[s_p:e_p]).reshape(-1, 1), np.array(result[:-1]).reshape(-1, 1)), axis=1)\n",
    "\n",
    "# Year        Rainfall Data        Predicton"
   ]
  },
  {
   "cell_type": "code",
   "execution_count": 143,
   "metadata": {},
   "outputs": [
    {
     "data": {
      "text/plain": [
       "Text(0.5, 1.0, 'Predictions using UWND\\n')"
      ]
     },
     "execution_count": 143,
     "metadata": {},
     "output_type": "execute_result"
    },
    {
     "data": {
      "image/png": "[encoded data removed]",
      "text/plain": [
       "<Figure size 432x288 with 1 Axes>"
      ]
     },
     "metadata": {
      "needs_background": "light"
     },
     "output_type": "display_data"
    }
   ],
   "source": [
    "plt.scatter(years, rain_data, color=\"red\", label='Original Rainfall') \n",
    "plt.plot(years, rain_data, color=\"red\", linewidth=1.5)          \n",
    "plt.plot(x_p, np.ones(len(x_p)) * lpa, color=\"black\", linestyle='dashed', label=\"Long Period Average\")\n",
    "plt.scatter(x_p, result, color=\"blue\", label='Predicted Rainfall')\n",
    "plt.plot(x_p, result, color=\"blue\", linewidth=1.5)\n",
    "plt.legend(fontsize=\"9\", loc=\"upper left\")      \n",
    "plt.xlabel('Time (years)', fontsize=14)\n",
    "plt.ylabel('Rainfall (mm)', fontsize=14)\n",
    "plt.title('Predictions using UWND\\n', fontsize=16)"
   ]
  },
  {
   "cell_type": "markdown",
   "metadata": {},
   "source": [
    "## Calculating Error in Prediciton of the year 2020 - 2021"
   ]
  },
  {
   "cell_type": "code",
   "execution_count": 141,
   "metadata": {},
   "outputs": [
    {
     "data": {
      "text/plain": [
       "21.735112129673468"
      ]
     },
     "execution_count": 141,
     "metadata": {},
     "output_type": "execute_result"
    }
   ],
   "source": [
    "error = (np.array(result[:-1]) - np.array(rain_fall_data[s_p:e_p-1]))/np.array(rain_fall_data[s_p:e_p-1]) * 100\n",
    "abs(error).mean()"
   ]
  },
  {
   "cell_type": "code",
   "execution_count": 142,
   "metadata": {},
   "outputs": [
    {
     "data": {
      "text/plain": [
       "1201.1218821826897"
      ]
     },
     "execution_count": 142,
     "metadata": {},
     "output_type": "execute_result"
    }
   ],
   "source": [
    "result[-1]"
   ]
  }
 ],
 "metadata": {
  "interpreter": {
   "hash": "7a1ec7127a1b5f2b59363b2f8f95e2eb75381aad515e22ffb14e745090963568"
  },
  "kernelspec": {
   "display_name": "Python 3.7.7 64-bit",
   "language": "python",
   "name": "python3"
  },
  "language_info": {
   "codemirror_mode": {
    "name": "ipython",
    "version": 3
   },
   "file_extension": ".py",
   "mimetype": "text/x-python",
   "name": "python",
   "nbconvert_exporter": "python",
   "pygments_lexer": "ipython3",
   "version": "3.7.7"
  },
  "orig_nbformat": 4
 },
 "nbformat": 4,
 "nbformat_minor": 2
}
