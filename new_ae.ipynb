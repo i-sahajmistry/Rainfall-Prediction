{
 "cells": [
  {
   "cell_type": "markdown",
   "metadata": {},
   "source": [
    "# Importing Modules"
   ]
  },
  {
   "cell_type": "code",
   "execution_count": 8,
   "metadata": {},
   "outputs": [],
   "source": [
    "import pandas as pd\n",
    "import numpy as np\n",
    "import keras\n",
    "from keras.models import Model\n",
    "from keras.layers import Input, Dense, ReLU\n",
    "from keras import optimizers, layers\n",
    "from tensorflow import math\n",
    "import warnings\n",
    "warnings.filterwarnings('ignore')"
   ]
  },
  {
   "cell_type": "markdown",
   "metadata": {},
   "source": [
    "# Importing Data\n",
    "- Data is of Rainfall in months of June to September of years 1948 - 2020"
   ]
  },
  {
   "cell_type": "code",
   "execution_count": 9,
   "metadata": {},
   "outputs": [],
   "source": [
    "import statistics\n",
    "\n",
    "rain = pd.read_csv(\"./Data/Rainfall.csv\")\n",
    "\n",
    "lpa = statistics.mean(list(rain['Jun-Sep'][12:41]))\n",
    "rain_fall_data = list(rain['Jun-Sep'])\n",
    "\n",
    "rain_data = []\n",
    "for i in range(len(rain_fall_data)):\n",
    "  temp = (rain_fall_data[i]/lpa)*100\n",
    "  rain_data.append(temp)"
   ]
  },
  {
   "cell_type": "markdown",
   "metadata": {},
   "source": [
    "- Importing Sea-Level Pressure(SLP), Sea Surface Temperature(SST), and Zonal Wind(UWND) Data."
   ]
  },
  {
   "cell_type": "code",
   "execution_count": 10,
   "metadata": {},
   "outputs": [],
   "source": [
    "import glob\n",
    "\n",
    "slp_path  = \"./Data/Anomaly/slp/*\"\n",
    "sst_path  = \"./Data/Anomaly/sst/*\"\n",
    "uwnd_path = \"./Data/Anomaly/uwnd/*\"\n",
    "\n",
    "slp_months = []\n",
    "for i in glob.glob(slp_path):\n",
    "  slp_months.append(i)\n",
    "\n",
    "sst_months = []\n",
    "for i in glob.glob(sst_path):\n",
    "  sst_months.append(i)\n",
    "\n",
    "uwnd_months = []\n",
    "for i in glob.glob(uwnd_path):\n",
    "  uwnd_months.append(i)\n",
    "  \n",
    "slp_months.sort()\n",
    "sst_months.sort()\n",
    "uwnd_months.sort()"
   ]
  },
  {
   "cell_type": "markdown",
   "metadata": {},
   "source": [
    "- Start and End Index for data (i.e 1948's index and 2000's index)"
   ]
  },
  {
   "cell_type": "code",
   "execution_count": 11,
   "metadata": {},
   "outputs": [],
   "source": [
    "s = 0\n",
    "e = 52"
   ]
  },
  {
   "cell_type": "markdown",
   "metadata": {},
   "source": [
    "- Extracting data of all the months and stacking one above other. \n",
    "- 324 variables and 52 data points for SLP and UWND.\n",
    "- 192 variables and 52 data points for SST."
   ]
  },
  {
   "cell_type": "code",
   "execution_count": 15,
   "metadata": {},
   "outputs": [
    {
     "data": {
      "text/html": [
       "<div>\n",
       "<style scoped>\n",
       "    .dataframe tbody tr th:only-of-type {\n",
       "        vertical-align: middle;\n",
       "    }\n",
       "\n",
       "    .dataframe tbody tr th {\n",
       "        vertical-align: top;\n",
       "    }\n",
       "\n",
       "    .dataframe thead tr th {\n",
       "        text-align: left;\n",
       "    }\n",
       "</style>\n",
       "<table border=\"1\" class=\"dataframe\">\n",
       "  <thead>\n",
       "    <tr>\n",
       "      <th>Latitude</th>\n",
       "      <th colspan=\"10\" halign=\"left\">-90</th>\n",
       "      <th>...</th>\n",
       "      <th colspan=\"10\" halign=\"left\">80</th>\n",
       "    </tr>\n",
       "    <tr>\n",
       "      <th>Longitude</th>\n",
       "      <th>0</th>\n",
       "      <th>20</th>\n",
       "      <th>40</th>\n",
       "      <th>60</th>\n",
       "      <th>80</th>\n",
       "      <th>100</th>\n",
       "      <th>120</th>\n",
       "      <th>140</th>\n",
       "      <th>160</th>\n",
       "      <th>180</th>\n",
       "      <th>...</th>\n",
       "      <th>160</th>\n",
       "      <th>180</th>\n",
       "      <th>200</th>\n",
       "      <th>220</th>\n",
       "      <th>240</th>\n",
       "      <th>260</th>\n",
       "      <th>280</th>\n",
       "      <th>300</th>\n",
       "      <th>320</th>\n",
       "      <th>340</th>\n",
       "    </tr>\n",
       "  </thead>\n",
       "  <tbody>\n",
       "    <tr>\n",
       "      <th>1949</th>\n",
       "      <td>-3.649323</td>\n",
       "      <td>-3.649323</td>\n",
       "      <td>-3.649323</td>\n",
       "      <td>-3.649323</td>\n",
       "      <td>-3.649323</td>\n",
       "      <td>-3.649323</td>\n",
       "      <td>-3.649323</td>\n",
       "      <td>-3.649323</td>\n",
       "      <td>-3.649323</td>\n",
       "      <td>-3.649323</td>\n",
       "      <td>...</td>\n",
       "      <td>6.598676</td>\n",
       "      <td>5.294682</td>\n",
       "      <td>3.563006</td>\n",
       "      <td>1.995687</td>\n",
       "      <td>1.005682</td>\n",
       "      <td>0.951014</td>\n",
       "      <td>1.386347</td>\n",
       "      <td>1.43035</td>\n",
       "      <td>1.857351</td>\n",
       "      <td>3.877972</td>\n",
       "    </tr>\n",
       "    <tr>\n",
       "      <th>1950</th>\n",
       "      <td>1.230677</td>\n",
       "      <td>1.230677</td>\n",
       "      <td>1.230677</td>\n",
       "      <td>1.230677</td>\n",
       "      <td>1.230677</td>\n",
       "      <td>1.230677</td>\n",
       "      <td>1.230677</td>\n",
       "      <td>1.230677</td>\n",
       "      <td>1.230677</td>\n",
       "      <td>1.230677</td>\n",
       "      <td>...</td>\n",
       "      <td>-4.251374</td>\n",
       "      <td>-4.835348</td>\n",
       "      <td>-5.186994</td>\n",
       "      <td>-4.854313</td>\n",
       "      <td>-2.824318</td>\n",
       "      <td>-0.829026</td>\n",
       "      <td>-1.153683</td>\n",
       "      <td>-1.92965</td>\n",
       "      <td>-1.202699</td>\n",
       "      <td>0.617962</td>\n",
       "    </tr>\n",
       "    <tr>\n",
       "      <th>1951</th>\n",
       "      <td>7.090677</td>\n",
       "      <td>7.090677</td>\n",
       "      <td>7.090677</td>\n",
       "      <td>7.090677</td>\n",
       "      <td>7.090677</td>\n",
       "      <td>7.090677</td>\n",
       "      <td>7.090677</td>\n",
       "      <td>7.090677</td>\n",
       "      <td>7.090677</td>\n",
       "      <td>7.090677</td>\n",
       "      <td>...</td>\n",
       "      <td>0.478676</td>\n",
       "      <td>3.114682</td>\n",
       "      <td>5.042976</td>\n",
       "      <td>5.235657</td>\n",
       "      <td>5.285642</td>\n",
       "      <td>5.451014</td>\n",
       "      <td>5.246347</td>\n",
       "      <td>5.95035</td>\n",
       "      <td>6.487301</td>\n",
       "      <td>4.937972</td>\n",
       "    </tr>\n",
       "    <tr>\n",
       "      <th>1952</th>\n",
       "      <td>8.300677</td>\n",
       "      <td>8.300677</td>\n",
       "      <td>8.300677</td>\n",
       "      <td>8.300677</td>\n",
       "      <td>8.300677</td>\n",
       "      <td>8.300677</td>\n",
       "      <td>8.300677</td>\n",
       "      <td>8.300677</td>\n",
       "      <td>8.300677</td>\n",
       "      <td>8.300677</td>\n",
       "      <td>...</td>\n",
       "      <td>8.528676</td>\n",
       "      <td>9.234682</td>\n",
       "      <td>9.053006</td>\n",
       "      <td>7.765687</td>\n",
       "      <td>5.885682</td>\n",
       "      <td>4.100964</td>\n",
       "      <td>2.876347</td>\n",
       "      <td>2.64035</td>\n",
       "      <td>3.047301</td>\n",
       "      <td>2.927962</td>\n",
       "    </tr>\n",
       "    <tr>\n",
       "      <th>1953</th>\n",
       "      <td>10.240677</td>\n",
       "      <td>10.240677</td>\n",
       "      <td>10.240677</td>\n",
       "      <td>10.240677</td>\n",
       "      <td>10.240677</td>\n",
       "      <td>10.240677</td>\n",
       "      <td>10.240677</td>\n",
       "      <td>10.240677</td>\n",
       "      <td>10.240677</td>\n",
       "      <td>10.240677</td>\n",
       "      <td>...</td>\n",
       "      <td>-1.301354</td>\n",
       "      <td>-1.155358</td>\n",
       "      <td>-1.876994</td>\n",
       "      <td>-3.864313</td>\n",
       "      <td>-5.174318</td>\n",
       "      <td>-4.628986</td>\n",
       "      <td>-2.843693</td>\n",
       "      <td>-2.32968</td>\n",
       "      <td>-3.162649</td>\n",
       "      <td>-2.762038</td>\n",
       "    </tr>\n",
       "  </tbody>\n",
       "</table>\n",
       "<p>5 rows × 324 columns</p>\n",
       "</div>"
      ],
      "text/plain": [
       "Latitude         -90                                                         \\\n",
       "Longitude          0         20         40         60         80        100   \n",
       "1949       -3.649323  -3.649323  -3.649323  -3.649323  -3.649323  -3.649323   \n",
       "1950        1.230677   1.230677   1.230677   1.230677   1.230677   1.230677   \n",
       "1951        7.090677   7.090677   7.090677   7.090677   7.090677   7.090677   \n",
       "1952        8.300677   8.300677   8.300677   8.300677   8.300677   8.300677   \n",
       "1953       10.240677  10.240677  10.240677  10.240677  10.240677  10.240677   \n",
       "\n",
       "Latitude                                               ...        80  \\\n",
       "Longitude        120        140        160        180  ...       160   \n",
       "1949       -3.649323  -3.649323  -3.649323  -3.649323  ...  6.598676   \n",
       "1950        1.230677   1.230677   1.230677   1.230677  ... -4.251374   \n",
       "1951        7.090677   7.090677   7.090677   7.090677  ...  0.478676   \n",
       "1952        8.300677   8.300677   8.300677   8.300677  ...  8.528676   \n",
       "1953       10.240677  10.240677  10.240677  10.240677  ... -1.301354   \n",
       "\n",
       "Latitude                                                               \\\n",
       "Longitude       180       200       220       240       260       280   \n",
       "1949       5.294682  3.563006  1.995687  1.005682  0.951014  1.386347   \n",
       "1950      -4.835348 -5.186994 -4.854313 -2.824318 -0.829026 -1.153683   \n",
       "1951       3.114682  5.042976  5.235657  5.285642  5.451014  5.246347   \n",
       "1952       9.234682  9.053006  7.765687  5.885682  4.100964  2.876347   \n",
       "1953      -1.155358 -1.876994 -3.864313 -5.174318 -4.628986 -2.843693   \n",
       "\n",
       "Latitude                                \n",
       "Longitude      300       320       340  \n",
       "1949       1.43035  1.857351  3.877972  \n",
       "1950      -1.92965 -1.202699  0.617962  \n",
       "1951       5.95035  6.487301  4.937972  \n",
       "1952       2.64035  3.047301  2.927962  \n",
       "1953      -2.32968 -3.162649 -2.762038  \n",
       "\n",
       "[5 rows x 324 columns]"
      ]
     },
     "execution_count": 15,
     "metadata": {},
     "output_type": "execute_result"
    }
   ],
   "source": [
    "def get_feature(data):\n",
    "  new_data = []\n",
    "  for i in range(len(data)):\n",
    "    d = data.iloc[i]\n",
    "    new_data.append(list(d))\n",
    "  return np.array(new_data)\n",
    "\n",
    "# Stacking Data of All Months\n",
    "combine_slp, combine_sst, combine_uwnd = [], [], []\n",
    "for i in range(12):\n",
    "  month_path_slp, month_path_sst, month_path_uwnd = slp_months[i], sst_months[i], uwnd_months[i] \n",
    "  month_data_slp ,month_data_sst, month_data_uwnd = pd.read_csv(month_path_slp, header=[0, 1], index_col=0), pd.read_csv(month_path_sst, header=[0, 1], index_col=0), pd.read_csv(month_path_uwnd, header=[0, 1], index_col=0)\n",
    " \n",
    "  feature_slp, feature_sst, feature_uwnd = get_feature(month_data_slp), get_feature(month_data_sst), get_feature(month_data_uwnd)\n",
    "  feature_slp, feature_sst, feature_uwnd = feature_slp[s:e], feature_sst[s:e], feature_uwnd[s:e]\n",
    "  for i in feature_slp:\n",
    "    combine_slp.append(i)\n",
    "  for i in feature_sst:\n",
    "    combine_sst.append(i)\n",
    "  for i in feature_uwnd:\n",
    "    combine_uwnd.append(i)\n",
    "\n",
    "combine = [np.array(combine_slp), np.array(combine_sst), np.array(combine_uwnd)]\n",
    "month_data_slp.head()"
   ]
  },
  {
   "cell_type": "markdown",
   "metadata": {},
   "source": [
    "- Concanating the Data as required."
   ]
  },
  {
   "cell_type": "code",
   "execution_count": 17,
   "metadata": {},
   "outputs": [],
   "source": [
    "def get_data(List):\n",
    "    N = len(List)\n",
    "    if N == 1:\n",
    "        return combine[List[0]]\n",
    "    elif N == 2:\n",
    "        return np.concatenate((combine[List[0]], combine[List[1]]), axis=1)\n",
    "    else:\n",
    "        return np.concatenate((combine[List[0]], combine[List[1]], combine[List[2]]), axis=1)\n"
   ]
  },
  {
   "cell_type": "markdown",
   "metadata": {},
   "source": [
    "# Models "
   ]
  },
  {
   "cell_type": "markdown",
   "metadata": {},
   "source": [
    "## Auto-Encoders (SLP or UWND)"
   ]
  },
  {
   "cell_type": "markdown",
   "metadata": {},
   "source": [
    "- 324 - 97 - 323"
   ]
  },
  {
   "cell_type": "code",
   "execution_count": 18,
   "metadata": {},
   "outputs": [],
   "source": [
    "def get_model_324(n_inputs=324):\n",
    "    visible = Input(shape=(n_inputs,))\n",
    "    e = Dense(n_inputs)(visible)\n",
    "    e = ReLU()(e)\n",
    "    bottleneck = Dense(97)(e)\n",
    "    output = Dense(n_inputs, activation='linear')(bottleneck)\n",
    "    model = Model(inputs=visible, outputs=output)\n",
    "    model.compile(optimizer='adam', loss='mse')\n",
    "    return model"
   ]
  },
  {
   "cell_type": "markdown",
   "metadata": {},
   "source": [
    "- 97 - 29 - 97"
   ]
  },
  {
   "cell_type": "code",
   "execution_count": 19,
   "metadata": {},
   "outputs": [],
   "source": [
    "def get_model_97(n_inputs=97):\n",
    "    visible = Input(shape=(n_inputs,))\n",
    "    e = Dense(n_inputs)(visible)\n",
    "    e = ReLU()(e)\n",
    "    bottleneck = Dense(29)(e)\n",
    "    output = Dense(n_inputs, activation='linear')(bottleneck)\n",
    "    model = Model(inputs=visible, outputs=output)\n",
    "    model.compile(optimizer='adam', loss='mse')\n",
    "    return model"
   ]
  },
  {
   "cell_type": "markdown",
   "metadata": {},
   "source": [
    "- 29 - 9 - 29"
   ]
  },
  {
   "cell_type": "code",
   "execution_count": 20,
   "metadata": {},
   "outputs": [],
   "source": [
    "def get_model_29(n_inputs=29):\n",
    "    visible = Input(shape=(n_inputs,))\n",
    "    e = Dense(n_inputs)(visible)\n",
    "    e = ReLU()(e)\n",
    "    bottleneck = Dense(9)(e)\n",
    "    output = Dense(n_inputs, activation='linear')(bottleneck)\n",
    "    model = Model(inputs=visible, outputs=output)\n",
    "    model.compile(optimizer='adam', loss='mse')\n",
    "    return model"
   ]
  },
  {
   "cell_type": "markdown",
   "metadata": {},
   "source": [
    "#### Final Auto Encoder\n",
    "- 324 - 97 - 29 - 9 - 29 - 97 - 324"
   ]
  },
  {
   "cell_type": "code",
   "execution_count": 21,
   "metadata": {},
   "outputs": [],
   "source": [
    "def get_model_final_324(n_inputs=324):\n",
    "    visible = Input(shape=(n_inputs,))\n",
    "    e = Dense(n_inputs)(visible)\n",
    "    e = ReLU()(e)\n",
    "    e = Dense(97)(e)\n",
    "    e = ReLU()(e)\n",
    "    e = Dense(29)(e)\n",
    "    e = ReLU()(e)\n",
    "    bottleneck = Dense(9)(e)\n",
    "    e = Dense(29)(bottleneck)\n",
    "    e = ReLU()(e)\n",
    "    e = Dense(97)(e)\n",
    "    e = ReLU()(e)\n",
    "    output = Dense(n_inputs, activation='linear')(e)\n",
    "    model = Model(inputs=visible, outputs=output)\n",
    "    model.compile(optimizer='adam', loss='mse')\n",
    "    return model"
   ]
  },
  {
   "cell_type": "markdown",
   "metadata": {},
   "source": [
    "## Auto-Encoders (SST)"
   ]
  },
  {
   "cell_type": "markdown",
   "metadata": {},
   "source": [
    "- 192 - 72 - 192"
   ]
  },
  {
   "cell_type": "code",
   "execution_count": 22,
   "metadata": {},
   "outputs": [],
   "source": [
    "def get_model_192(n_inputs=192):\n",
    "    visible = Input(shape=(n_inputs,))\n",
    "    e = Dense(n_inputs)(visible)\n",
    "    e = ReLU()(e)\n",
    "    bottleneck = Dense(72)(e)\n",
    "    output = Dense(n_inputs, activation='linear')(bottleneck)\n",
    "    model = Model(inputs=visible, outputs=output)\n",
    "    model.compile(optimizer='adam', loss='mse')\n",
    "    return model"
   ]
  },
  {
   "cell_type": "markdown",
   "metadata": {},
   "source": [
    "- 72 - 21 - 72"
   ]
  },
  {
   "cell_type": "code",
   "execution_count": 23,
   "metadata": {},
   "outputs": [],
   "source": [
    "def get_model_72(n_inputs=72):\n",
    "    visible = Input(shape=(n_inputs,))\n",
    "    e = Dense(n_inputs)(visible)\n",
    "    e = ReLU()(e)\n",
    "    bottleneck = Dense(21)(e)\n",
    "    output = Dense(n_inputs, activation='linear')(bottleneck)\n",
    "    model = Model(inputs=visible, outputs=output)\n",
    "    model.compile(optimizer='adam', loss='mse')\n",
    "    return model"
   ]
  },
  {
   "cell_type": "markdown",
   "metadata": {},
   "source": [
    "- 21 - 6 - 21"
   ]
  },
  {
   "cell_type": "code",
   "execution_count": 24,
   "metadata": {},
   "outputs": [],
   "source": [
    "def get_model_21(n_inputs=21):\n",
    "    visible = Input(shape=(n_inputs,))\n",
    "    e = Dense(n_inputs)(visible)\n",
    "    e = ReLU()(e)\n",
    "    bottleneck = Dense(6)(e)\n",
    "    output = Dense(n_inputs, activation='linear')(bottleneck)\n",
    "    model = Model(inputs=visible, outputs=output)\n",
    "    model.compile(optimizer='adam', loss='mse')\n",
    "    return model"
   ]
  },
  {
   "cell_type": "markdown",
   "metadata": {},
   "source": [
    "#### Final Auto Encoder\n",
    "- 192 - 72 - 21 - 6 - 21 - 72 - 192"
   ]
  },
  {
   "cell_type": "code",
   "execution_count": 25,
   "metadata": {},
   "outputs": [],
   "source": [
    "def get_model_final_192(n_inputs=192):\n",
    "    visible = Input(shape=(n_inputs,))\n",
    "    e = Dense(n_inputs)(visible)\n",
    "    e = ReLU()(e)\n",
    "    e = Dense(72)(e)\n",
    "    e = ReLU()(e)\n",
    "    e = Dense(21)(e)\n",
    "    e = ReLU()(e)\n",
    "    bottleneck = Dense(6)(e)\n",
    "    e = Dense(21)(bottleneck)\n",
    "    e = ReLU()(e)\n",
    "    e = Dense(72)(e)\n",
    "    e = ReLU()(e)\n",
    "    output = Dense(n_inputs, activation='linear')(e)\n",
    "    model = Model(inputs=visible, outputs=output)\n",
    "    model.compile(optimizer='adam', loss='mse')\n",
    "    return model"
   ]
  },
  {
   "cell_type": "markdown",
   "metadata": {},
   "source": [
    "## Auto-Encoders (SST-SLP or SST-UWND)"
   ]
  },
  {
   "cell_type": "markdown",
   "metadata": {},
   "source": [
    "- 416 - 169 - 416"
   ]
  },
  {
   "cell_type": "code",
   "execution_count": 26,
   "metadata": {},
   "outputs": [],
   "source": [
    "def get_model_416(n_inputs=416):\n",
    "    visible = Input(shape=(n_inputs,))\n",
    "    e = Dense(n_inputs)(visible)\n",
    "    e = ReLU()(e)\n",
    "    bottleneck = Dense(169)(e)\n",
    "    output = Dense(n_inputs, activation='linear')(bottleneck)\n",
    "    model = Model(inputs=visible, outputs=output)\n",
    "    model.compile(optimizer='adam', loss='mse')\n",
    "    return model"
   ]
  },
  {
   "cell_type": "markdown",
   "metadata": {},
   "source": [
    "- 169 - 50 - 169"
   ]
  },
  {
   "cell_type": "code",
   "execution_count": 27,
   "metadata": {},
   "outputs": [],
   "source": [
    "def get_model_169(n_inputs=169):\n",
    "    visible = Input(shape=(n_inputs,))\n",
    "    e = Dense(n_inputs)(visible)\n",
    "    e = ReLU()(e)\n",
    "    bottleneck = Dense(50)(e)\n",
    "    output = Dense(n_inputs, activation='linear')(bottleneck)\n",
    "    model = Model(inputs=visible, outputs=output)\n",
    "    model.compile(optimizer='adam', loss='mse')\n",
    "    return model"
   ]
  },
  {
   "cell_type": "markdown",
   "metadata": {},
   "source": [
    "- 50 - 15 - 50"
   ]
  },
  {
   "cell_type": "code",
   "execution_count": 28,
   "metadata": {},
   "outputs": [],
   "source": [
    "def get_model_50(n_inputs=50):\n",
    "    visible = Input(shape=(n_inputs,))\n",
    "    e = Dense(n_inputs)(visible)\n",
    "    e = ReLU()(e)\n",
    "    bottleneck = Dense(15)(e)\n",
    "    output = Dense(n_inputs, activation='linear')(bottleneck)\n",
    "    model = Model(inputs=visible, outputs=output)\n",
    "    model.compile(optimizer='adam', loss='mse')\n",
    "    return model"
   ]
  },
  {
   "cell_type": "markdown",
   "metadata": {},
   "source": [
    "#### Final Auto Encoder\n",
    "- 416 - 169 - 50 - 15 - 50 - 169 - 416"
   ]
  },
  {
   "cell_type": "code",
   "execution_count": 29,
   "metadata": {},
   "outputs": [],
   "source": [
    "def get_model_final_416(n_inputs=416):\n",
    "    visible = Input(shape=(n_inputs,))\n",
    "    e = Dense(n_inputs)(visible)\n",
    "    e = ReLU()(e)\n",
    "    e = Dense(169)(e)\n",
    "    e = ReLU()(e)\n",
    "    e = Dense(21)(e)\n",
    "    e = ReLU()(e)\n",
    "    bottleneck = Dense(6)(e)\n",
    "    e = Dense(21)(bottleneck)\n",
    "    e = ReLU()(e)\n",
    "    e = Dense(169)(e)\n",
    "    e = ReLU()(e)\n",
    "    output = Dense(n_inputs, activation='linear')(e)\n",
    "    model = Model(inputs=visible, outputs=output)\n",
    "    model.compile(optimizer='adam', loss='mse')\n",
    "    return model"
   ]
  },
  {
   "cell_type": "markdown",
   "metadata": {},
   "source": [
    "## Auto-Encoders (SLP-UWND)"
   ]
  },
  {
   "cell_type": "markdown",
   "metadata": {},
   "source": [
    "- 648 - 194 - 648"
   ]
  },
  {
   "cell_type": "code",
   "execution_count": 30,
   "metadata": {},
   "outputs": [],
   "source": [
    "def get_model_648(n_inputs=648):\n",
    "    visible = Input(shape=(n_inputs,))\n",
    "    e = Dense(n_inputs)(visible)\n",
    "    e = ReLU()(e)\n",
    "    bottleneck = Dense(194)(e)\n",
    "    output = Dense(n_inputs, activation='linear')(bottleneck)\n",
    "    model = Model(inputs=visible, outputs=output)\n",
    "    model.compile(optimizer='adam', loss='mse')\n",
    "    return model"
   ]
  },
  {
   "cell_type": "markdown",
   "metadata": {},
   "source": [
    "- 194 - 58 - 194"
   ]
  },
  {
   "cell_type": "code",
   "execution_count": 31,
   "metadata": {},
   "outputs": [],
   "source": [
    "def get_model_194(n_inputs=194):\n",
    "    visible = Input(shape=(n_inputs,))\n",
    "    e = Dense(n_inputs)(visible)\n",
    "    e = ReLU()(e)\n",
    "    bottleneck = Dense(58)(e)\n",
    "    output = Dense(n_inputs, activation='linear')(bottleneck)\n",
    "    model = Model(inputs=visible, outputs=output)\n",
    "    model.compile(optimizer='adam', loss='mse')\n",
    "    return model"
   ]
  },
  {
   "cell_type": "markdown",
   "metadata": {},
   "source": [
    "- 58 - 17 - 58"
   ]
  },
  {
   "cell_type": "code",
   "execution_count": 32,
   "metadata": {},
   "outputs": [],
   "source": [
    "def get_model_58(n_inputs=58):\n",
    "    visible = Input(shape=(n_inputs,))\n",
    "    e = Dense(n_inputs)(visible)\n",
    "    e = ReLU()(e)\n",
    "    bottleneck = Dense(17)(e)\n",
    "    output = Dense(n_inputs, activation='linear')(bottleneck)\n",
    "    model = Model(inputs=visible, outputs=output)\n",
    "    model.compile(optimizer='adam', loss='mse')\n",
    "    return model"
   ]
  },
  {
   "cell_type": "markdown",
   "metadata": {},
   "source": [
    "#### Final Auto Encoder\n",
    "- 648 - 194 - 58 - 17 - 58 - 194 - 648"
   ]
  },
  {
   "cell_type": "code",
   "execution_count": 33,
   "metadata": {},
   "outputs": [],
   "source": [
    "def get_model_final_648(n_inputs=648):\n",
    "    visible = Input(shape=(n_inputs,))\n",
    "    e = Dense(n_inputs)(visible)\n",
    "    e = ReLU()(e)\n",
    "    e = Dense(194)(e)\n",
    "    e = ReLU()(e)\n",
    "    e = Dense(58)(e)\n",
    "    e = ReLU()(e)\n",
    "    bottleneck = Dense(17)(e)\n",
    "    e = Dense(58)(bottleneck)\n",
    "    e = ReLU()(e)\n",
    "    e = Dense(194)(e)\n",
    "    e = ReLU()(e)\n",
    "    output = Dense(n_inputs, activation='linear')(e)\n",
    "    model = Model(inputs=visible, outputs=output)\n",
    "    model.compile(optimizer='adam', loss='mse')\n",
    "    return model"
   ]
  },
  {
   "cell_type": "markdown",
   "metadata": {},
   "source": [
    "## Get all Models in a 2-D List\n",
    "|       Outer Most Layer           |        Middle Layer             |      Inner Most Layer         |      Full Model                              |\n",
    "|----------------------------------|---------------------------------|-------------------------------|----------------------------------------------|\n",
    "| [ Model SLP  - 324-97-324        |  Model SLP  - 97-29-97          |  Model SLP  - 29-9-29         |  Model SLP  - 324-97-29-9-29-97-324  ]       |\n",
    "| [ Model UWND - 324-97-324        |   Model UWND - 97-29-97         |   Model UWND - 29-9-29        |   Model UWND - 324-97-29-9-29-97-324 ]       |\n",
    "| [ Model SST  - 192-72-192        |   Model SST  - 72-21-72         |   Model SST  - 21-6-21        |   Model SST  - 192-72-21-6-21-72-192 ]       |\n",
    "| [ Model SLP-SST  - 416-169-416   |   Model SLP-SST  - 169-50-169   |   Model SLP-SST  - 50-15-50   |   Model SLP-SST  - 416-169-50-15-50-169-416] |\n",
    "| [ Model UWND-SST - 416-169-416   |   Model UWND-SST - 169-50-169   |   Model UWND-SST - 50-15-50   |   Model UWND-SST - 416-169-50-15-50-169-416] |\n",
    "| [ Model SLP-UWND - 648-194-648   |   Model SLP-UWND - 194-58-194   |   Model SLP-UWND - 58-17-58   |   Model SLP-UWND - 416-194-58-17-58-194-416] |"
   ]
  },
  {
   "cell_type": "code",
   "execution_count": 34,
   "metadata": {},
   "outputs": [],
   "source": [
    "def get_all_model():\n",
    "    models_slp  = [get_model_324(), get_model_97(), get_model_29(), get_model_final_324()]\n",
    "    models_uwnd = [get_model_324(), get_model_97(), get_model_29(), get_model_final_324()]\n",
    "    models_sst  = [get_model_192(), get_model_72(), get_model_21(), get_model_final_192()]\n",
    "    models_slp_sst  = [get_model_416(), get_model_169(), get_model_50(), get_model_final_416()]\n",
    "    models_uwnd_sst = [get_model_416(), get_model_169(), get_model_50(), get_model_final_416()]\n",
    "    models_slp_uwnd = [get_model_648(), get_model_194(), get_model_58(), get_model_final_648()]\n",
    "\n",
    "    models = [models_slp, models_uwnd, models_sst, models_slp_sst, models_uwnd_sst, models_slp_uwnd]\n",
    "    return models"
   ]
  },
  {
   "cell_type": "code",
   "execution_count": 35,
   "metadata": {},
   "outputs": [],
   "source": [
    "models = get_all_model()"
   ]
  },
  {
   "cell_type": "code",
   "execution_count": 36,
   "metadata": {},
   "outputs": [
    {
     "name": "stdout",
     "output_type": "stream",
     "text": [
      "Model: \"model\"\n",
      "_________________________________________________________________\n",
      " Layer (type)                Output Shape              Param #   \n",
      "=================================================================\n",
      " input_1 (InputLayer)        [(None, 324)]             0         \n",
      "                                                                 \n",
      " dense (Dense)               (None, 324)               105300    \n",
      "                                                                 \n",
      " re_lu (ReLU)                (None, 324)               0         \n",
      "                                                                 \n",
      " dense_1 (Dense)             (None, 97)                31525     \n",
      "                                                                 \n",
      " dense_2 (Dense)             (None, 324)               31752     \n",
      "                                                                 \n",
      "=================================================================\n",
      "Total params: 168,577\n",
      "Trainable params: 168,577\n",
      "Non-trainable params: 0\n",
      "_________________________________________________________________\n",
      "Model: \"model_1\"\n",
      "_________________________________________________________________\n",
      " Layer (type)                Output Shape              Param #   \n",
      "=================================================================\n",
      " input_2 (InputLayer)        [(None, 97)]              0         \n",
      "                                                                 \n",
      " dense_3 (Dense)             (None, 97)                9506      \n",
      "                                                                 \n",
      " re_lu_1 (ReLU)              (None, 97)                0         \n",
      "                                                                 \n",
      " dense_4 (Dense)             (None, 29)                2842      \n",
      "                                                                 \n",
      " dense_5 (Dense)             (None, 97)                2910      \n",
      "                                                                 \n",
      "=================================================================\n",
      "Total params: 15,258\n",
      "Trainable params: 15,258\n",
      "Non-trainable params: 0\n",
      "_________________________________________________________________\n",
      "Model: \"model_2\"\n",
      "_________________________________________________________________\n",
      " Layer (type)                Output Shape              Param #   \n",
      "=================================================================\n",
      " input_3 (InputLayer)        [(None, 29)]              0         \n",
      "                                                                 \n",
      " dense_6 (Dense)             (None, 29)                870       \n",
      "                                                                 \n",
      " re_lu_2 (ReLU)              (None, 29)                0         \n",
      "                                                                 \n",
      " dense_7 (Dense)             (None, 9)                 270       \n",
      "                                                                 \n",
      " dense_8 (Dense)             (None, 29)                290       \n",
      "                                                                 \n",
      "=================================================================\n",
      "Total params: 1,430\n",
      "Trainable params: 1,430\n",
      "Non-trainable params: 0\n",
      "_________________________________________________________________\n",
      "Model: \"model_3\"\n",
      "_________________________________________________________________\n",
      " Layer (type)                Output Shape              Param #   \n",
      "=================================================================\n",
      " input_4 (InputLayer)        [(None, 324)]             0         \n",
      "                                                                 \n",
      " dense_9 (Dense)             (None, 324)               105300    \n",
      "                                                                 \n",
      " re_lu_3 (ReLU)              (None, 324)               0         \n",
      "                                                                 \n",
      " dense_10 (Dense)            (None, 97)                31525     \n",
      "                                                                 \n",
      " re_lu_4 (ReLU)              (None, 97)                0         \n",
      "                                                                 \n",
      " dense_11 (Dense)            (None, 29)                2842      \n",
      "                                                                 \n",
      " re_lu_5 (ReLU)              (None, 29)                0         \n",
      "                                                                 \n",
      " dense_12 (Dense)            (None, 9)                 270       \n",
      "                                                                 \n",
      " dense_13 (Dense)            (None, 29)                290       \n",
      "                                                                 \n",
      " re_lu_6 (ReLU)              (None, 29)                0         \n",
      "                                                                 \n",
      " dense_14 (Dense)            (None, 97)                2910      \n",
      "                                                                 \n",
      " re_lu_7 (ReLU)              (None, 97)                0         \n",
      "                                                                 \n",
      " dense_15 (Dense)            (None, 324)               31752     \n",
      "                                                                 \n",
      "=================================================================\n",
      "Total params: 174,889\n",
      "Trainable params: 174,889\n",
      "Non-trainable params: 0\n",
      "_________________________________________________________________\n"
     ]
    }
   ],
   "source": [
    "for i in models[0]:\n",
    "    i.summary()"
   ]
  },
  {
   "cell_type": "markdown",
   "metadata": {},
   "source": [
    "# Training"
   ]
  },
  {
   "cell_type": "code",
   "execution_count": 38,
   "metadata": {},
   "outputs": [
    {
     "data": {
      "text/plain": [
       "(1248, 324)"
      ]
     },
     "execution_count": 38,
     "metadata": {},
     "output_type": "execute_result"
    }
   ],
   "source": [
    "data = np.concatenate((get_data([0]), get_data([2])), axis=0)\n",
    "data.shape"
   ]
  },
  {
   "cell_type": "code",
   "execution_count": 41,
   "metadata": {},
   "outputs": [],
   "source": [
    "def train_model(models, inputs):\n",
    "    x = inputs\n",
    "    for model in models[:-1]:\n",
    "        model.fit(x, x, epochs=800, batch_size=16, verbose=2, validation_data=(x,x))\n",
    "        model_temp = Model(x=model.input, outputs=model.layers[3].output)\n",
    "        x = model_temp(x)\n",
    "\n",
    "    model[-1].layers[2] = model[0].layers[3]\n",
    "    model[-1].layers[11] = model[0].layers[4]\n",
    "    model[-1].layers[4] = model[1].layers[3]\n",
    "    model[-1].layers[9] = model[1].layers[4]\n",
    "    model[-1].layers[6] = model[2].layers[3]\n",
    "    model[-1].layers[7] = model[2].layers[4]\n",
    "    model[-1].compile(optimizer='adam', loss='mse')\n",
    "\n",
    "    model[-1].fit(inputs, inputs, epochs=800, batch_size=16, verbose=2, validation_data=(inputs,inputs))"
   ]
  },
  {
   "cell_type": "code",
   "execution_count": 42,
   "metadata": {},
   "outputs": [
    {
     "name": "stdout",
     "output_type": "stream",
     "text": [
      "Epoch 1/800\n"
     ]
    },
    {
     "ename": "UnimplementedError",
     "evalue": "Graph execution error:\n\nDetected at node 'model/Cast' defined at (most recent call last):\n    File \"C:\\Users\\Sahaj\\AppData\\Local\\Programs\\Python\\Python37\\lib\\runpy.py\", line 193, in _run_module_as_main\n      \"__main__\", mod_spec)\n    File \"C:\\Users\\Sahaj\\AppData\\Local\\Programs\\Python\\Python37\\lib\\runpy.py\", line 85, in _run_code\n      exec(code, run_globals)\n    File \"C:\\Users\\Sahaj\\AppData\\Roaming\\Python\\Python37\\site-packages\\ipykernel_launcher.py\", line 16, in <module>\n      app.launch_new_instance()\n    File \"C:\\Users\\Sahaj\\AppData\\Roaming\\Python\\Python37\\site-packages\\traitlets\\config\\application.py\", line 846, in launch_instance\n      app.start()\n    File \"C:\\Users\\Sahaj\\AppData\\Roaming\\Python\\Python37\\site-packages\\ipykernel\\kernelapp.py\", line 677, in start\n      self.io_loop.start()\n    File \"C:\\Users\\Sahaj\\AppData\\Roaming\\Python\\Python37\\site-packages\\tornado\\platform\\asyncio.py\", line 199, in start\n      self.asyncio_loop.run_forever()\n    File \"C:\\Users\\Sahaj\\AppData\\Local\\Programs\\Python\\Python37\\lib\\asyncio\\base_events.py\", line 541, in run_forever\n      self._run_once()\n    File \"C:\\Users\\Sahaj\\AppData\\Local\\Programs\\Python\\Python37\\lib\\asyncio\\base_events.py\", line 1786, in _run_once\n      handle._run()\n    File \"C:\\Users\\Sahaj\\AppData\\Local\\Programs\\Python\\Python37\\lib\\asyncio\\events.py\", line 88, in _run\n      self._context.run(self._callback, *self._args)\n    File \"C:\\Users\\Sahaj\\AppData\\Roaming\\Python\\Python37\\site-packages\\ipykernel\\kernelbase.py\", line 473, in dispatch_queue\n      await self.process_one()\n    File \"C:\\Users\\Sahaj\\AppData\\Roaming\\Python\\Python37\\site-packages\\ipykernel\\kernelbase.py\", line 462, in process_one\n      await dispatch(*args)\n    File \"C:\\Users\\Sahaj\\AppData\\Roaming\\Python\\Python37\\site-packages\\ipykernel\\kernelbase.py\", line 369, in dispatch_shell\n      await result\n    File \"C:\\Users\\Sahaj\\AppData\\Roaming\\Python\\Python37\\site-packages\\ipykernel\\kernelbase.py\", line 664, in execute_request\n      reply_content = await reply_content\n    File \"C:\\Users\\Sahaj\\AppData\\Roaming\\Python\\Python37\\site-packages\\ipykernel\\ipkernel.py\", line 355, in do_execute\n      res = shell.run_cell(code, store_history=store_history, silent=silent)\n    File \"C:\\Users\\Sahaj\\AppData\\Roaming\\Python\\Python37\\site-packages\\ipykernel\\zmqshell.py\", line 532, in run_cell\n      return super().run_cell(*args, **kwargs)\n    File \"C:\\Users\\Sahaj\\AppData\\Roaming\\Python\\Python37\\site-packages\\IPython\\core\\interactiveshell.py\", line 2958, in run_cell\n      raw_cell, store_history, silent, shell_futures)\n    File \"C:\\Users\\Sahaj\\AppData\\Roaming\\Python\\Python37\\site-packages\\IPython\\core\\interactiveshell.py\", line 3003, in _run_cell\n      return runner(coro)\n    File \"C:\\Users\\Sahaj\\AppData\\Roaming\\Python\\Python37\\site-packages\\IPython\\core\\async_helpers.py\", line 78, in _pseudo_sync_runner\n      coro.send(None)\n    File \"C:\\Users\\Sahaj\\AppData\\Roaming\\Python\\Python37\\site-packages\\IPython\\core\\interactiveshell.py\", line 3229, in run_cell_async\n      interactivity=interactivity, compiler=compiler, result=result)\n    File \"C:\\Users\\Sahaj\\AppData\\Roaming\\Python\\Python37\\site-packages\\IPython\\core\\interactiveshell.py\", line 3444, in run_ast_nodes\n      if (await self.run_code(code, result,  async_=asy)):\n    File \"C:\\Users\\Sahaj\\AppData\\Roaming\\Python\\Python37\\site-packages\\IPython\\core\\interactiveshell.py\", line 3524, in run_code\n      exec(code_obj, self.user_global_ns, self.user_ns)\n    File \"C:\\Users\\Sahaj\\AppData\\Local\\Temp\\ipykernel_10260\\4026775640.py\", line 1, in <module>\n      train_model(models[0], data)\n    File \"C:\\Users\\Sahaj\\AppData\\Local\\Temp\\ipykernel_10260\\221957475.py\", line 4, in train_model\n      model.fit(x, x, epochs=800, batch_size=16, verbose=2, validation_data=(x,x))\n    File \"C:\\Users\\Sahaj\\AppData\\Local\\Programs\\Python\\Python37\\lib\\site-packages\\keras\\utils\\traceback_utils.py\", line 64, in error_handler\n      return fn(*args, **kwargs)\n    File \"C:\\Users\\Sahaj\\AppData\\Local\\Programs\\Python\\Python37\\lib\\site-packages\\keras\\engine\\training.py\", line 1384, in fit\n      tmp_logs = self.train_function(iterator)\n    File \"C:\\Users\\Sahaj\\AppData\\Local\\Programs\\Python\\Python37\\lib\\site-packages\\keras\\engine\\training.py\", line 1021, in train_function\n      return step_function(self, iterator)\n    File \"C:\\Users\\Sahaj\\AppData\\Local\\Programs\\Python\\Python37\\lib\\site-packages\\keras\\engine\\training.py\", line 1010, in step_function\n      outputs = model.distribute_strategy.run(run_step, args=(data,))\n    File \"C:\\Users\\Sahaj\\AppData\\Local\\Programs\\Python\\Python37\\lib\\site-packages\\keras\\engine\\training.py\", line 1000, in run_step\n      outputs = model.train_step(data)\n    File \"C:\\Users\\Sahaj\\AppData\\Local\\Programs\\Python\\Python37\\lib\\site-packages\\keras\\engine\\training.py\", line 859, in train_step\n      y_pred = self(x, training=True)\n    File \"C:\\Users\\Sahaj\\AppData\\Local\\Programs\\Python\\Python37\\lib\\site-packages\\keras\\utils\\traceback_utils.py\", line 64, in error_handler\n      return fn(*args, **kwargs)\n    File \"C:\\Users\\Sahaj\\AppData\\Local\\Programs\\Python\\Python37\\lib\\site-packages\\keras\\engine\\base_layer.py\", line 1096, in __call__\n      outputs = call_fn(inputs, *args, **kwargs)\n    File \"C:\\Users\\Sahaj\\AppData\\Local\\Programs\\Python\\Python37\\lib\\site-packages\\keras\\utils\\traceback_utils.py\", line 92, in error_handler\n      return fn(*args, **kwargs)\n    File \"C:\\Users\\Sahaj\\AppData\\Local\\Programs\\Python\\Python37\\lib\\site-packages\\keras\\engine\\functional.py\", line 452, in call\n      inputs, training=training, mask=mask)\n    File \"C:\\Users\\Sahaj\\AppData\\Local\\Programs\\Python\\Python37\\lib\\site-packages\\keras\\engine\\functional.py\", line 571, in _run_internal_graph\n      y = self._conform_to_reference_input(y, ref_input=x)\n    File \"C:\\Users\\Sahaj\\AppData\\Local\\Programs\\Python\\Python37\\lib\\site-packages\\keras\\engine\\functional.py\", line 671, in _conform_to_reference_input\n      tensor = tf.cast(tensor, dtype=ref_input.dtype)\nNode: 'model/Cast'\nCast string to float is not supported\n\t [[{{node model/Cast}}]] [Op:__inference_train_function_3293]",
     "output_type": "error",
     "traceback": [
      "\u001b[1;31m---------------------------------------------------------------------------\u001b[0m",
      "\u001b[1;31mUnimplementedError\u001b[0m                        Traceback (most recent call last)",
      "\u001b[1;32m~\\AppData\\Local\\Temp\\ipykernel_10260\\4026775640.py\u001b[0m in \u001b[0;36m<module>\u001b[1;34m\u001b[0m\n\u001b[1;32m----> 1\u001b[1;33m \u001b[0mtrain_model\u001b[0m\u001b[1;33m(\u001b[0m\u001b[0mmodels\u001b[0m\u001b[1;33m[\u001b[0m\u001b[1;36m0\u001b[0m\u001b[1;33m]\u001b[0m\u001b[1;33m,\u001b[0m \u001b[0mdata\u001b[0m\u001b[1;33m)\u001b[0m\u001b[1;33m\u001b[0m\u001b[1;33m\u001b[0m\u001b[0m\n\u001b[0m",
      "\u001b[1;32m~\\AppData\\Local\\Temp\\ipykernel_10260\\221957475.py\u001b[0m in \u001b[0;36mtrain_model\u001b[1;34m(models, inputs)\u001b[0m\n\u001b[0;32m      2\u001b[0m     \u001b[0mx\u001b[0m \u001b[1;33m=\u001b[0m \u001b[0minputs\u001b[0m\u001b[1;33m\u001b[0m\u001b[1;33m\u001b[0m\u001b[0m\n\u001b[0;32m      3\u001b[0m     \u001b[1;32mfor\u001b[0m \u001b[0mmodel\u001b[0m \u001b[1;32min\u001b[0m \u001b[0mmodels\u001b[0m\u001b[1;33m[\u001b[0m\u001b[1;33m:\u001b[0m\u001b[1;33m-\u001b[0m\u001b[1;36m1\u001b[0m\u001b[1;33m]\u001b[0m\u001b[1;33m:\u001b[0m\u001b[1;33m\u001b[0m\u001b[1;33m\u001b[0m\u001b[0m\n\u001b[1;32m----> 4\u001b[1;33m         \u001b[0mmodel\u001b[0m\u001b[1;33m.\u001b[0m\u001b[0mfit\u001b[0m\u001b[1;33m(\u001b[0m\u001b[0mx\u001b[0m\u001b[1;33m,\u001b[0m \u001b[0mx\u001b[0m\u001b[1;33m,\u001b[0m \u001b[0mepochs\u001b[0m\u001b[1;33m=\u001b[0m\u001b[1;36m800\u001b[0m\u001b[1;33m,\u001b[0m \u001b[0mbatch_size\u001b[0m\u001b[1;33m=\u001b[0m\u001b[1;36m16\u001b[0m\u001b[1;33m,\u001b[0m \u001b[0mverbose\u001b[0m\u001b[1;33m=\u001b[0m\u001b[1;36m2\u001b[0m\u001b[1;33m,\u001b[0m \u001b[0mvalidation_data\u001b[0m\u001b[1;33m=\u001b[0m\u001b[1;33m(\u001b[0m\u001b[0mx\u001b[0m\u001b[1;33m,\u001b[0m\u001b[0mx\u001b[0m\u001b[1;33m)\u001b[0m\u001b[1;33m)\u001b[0m\u001b[1;33m\u001b[0m\u001b[1;33m\u001b[0m\u001b[0m\n\u001b[0m\u001b[0;32m      5\u001b[0m         \u001b[0mmodel_temp\u001b[0m \u001b[1;33m=\u001b[0m \u001b[0mModel\u001b[0m\u001b[1;33m(\u001b[0m\u001b[0mx\u001b[0m\u001b[1;33m=\u001b[0m\u001b[0mmodel\u001b[0m\u001b[1;33m.\u001b[0m\u001b[0minput\u001b[0m\u001b[1;33m,\u001b[0m \u001b[0moutputs\u001b[0m\u001b[1;33m=\u001b[0m\u001b[0mmodel\u001b[0m\u001b[1;33m.\u001b[0m\u001b[0mlayers\u001b[0m\u001b[1;33m[\u001b[0m\u001b[1;36m3\u001b[0m\u001b[1;33m]\u001b[0m\u001b[1;33m.\u001b[0m\u001b[0moutput\u001b[0m\u001b[1;33m)\u001b[0m\u001b[1;33m\u001b[0m\u001b[1;33m\u001b[0m\u001b[0m\n\u001b[0;32m      6\u001b[0m         \u001b[0mx\u001b[0m \u001b[1;33m=\u001b[0m \u001b[0mmodel_temp\u001b[0m\u001b[1;33m(\u001b[0m\u001b[0mx\u001b[0m\u001b[1;33m)\u001b[0m\u001b[1;33m\u001b[0m\u001b[1;33m\u001b[0m\u001b[0m\n",
      "\u001b[1;32m~\\AppData\\Local\\Programs\\Python\\Python37\\lib\\site-packages\\keras\\utils\\traceback_utils.py\u001b[0m in \u001b[0;36merror_handler\u001b[1;34m(*args, **kwargs)\u001b[0m\n\u001b[0;32m     65\u001b[0m     \u001b[1;32mexcept\u001b[0m \u001b[0mException\u001b[0m \u001b[1;32mas\u001b[0m \u001b[0me\u001b[0m\u001b[1;33m:\u001b[0m  \u001b[1;31m# pylint: disable=broad-except\u001b[0m\u001b[1;33m\u001b[0m\u001b[1;33m\u001b[0m\u001b[0m\n\u001b[0;32m     66\u001b[0m       \u001b[0mfiltered_tb\u001b[0m \u001b[1;33m=\u001b[0m \u001b[0m_process_traceback_frames\u001b[0m\u001b[1;33m(\u001b[0m\u001b[0me\u001b[0m\u001b[1;33m.\u001b[0m\u001b[0m__traceback__\u001b[0m\u001b[1;33m)\u001b[0m\u001b[1;33m\u001b[0m\u001b[1;33m\u001b[0m\u001b[0m\n\u001b[1;32m---> 67\u001b[1;33m       \u001b[1;32mraise\u001b[0m \u001b[0me\u001b[0m\u001b[1;33m.\u001b[0m\u001b[0mwith_traceback\u001b[0m\u001b[1;33m(\u001b[0m\u001b[0mfiltered_tb\u001b[0m\u001b[1;33m)\u001b[0m \u001b[1;32mfrom\u001b[0m \u001b[1;32mNone\u001b[0m\u001b[1;33m\u001b[0m\u001b[1;33m\u001b[0m\u001b[0m\n\u001b[0m\u001b[0;32m     68\u001b[0m     \u001b[1;32mfinally\u001b[0m\u001b[1;33m:\u001b[0m\u001b[1;33m\u001b[0m\u001b[1;33m\u001b[0m\u001b[0m\n\u001b[0;32m     69\u001b[0m       \u001b[1;32mdel\u001b[0m \u001b[0mfiltered_tb\u001b[0m\u001b[1;33m\u001b[0m\u001b[1;33m\u001b[0m\u001b[0m\n",
      "\u001b[1;32m~\\AppData\\Local\\Programs\\Python\\Python37\\lib\\site-packages\\tensorflow\\python\\eager\\execute.py\u001b[0m in \u001b[0;36mquick_execute\u001b[1;34m(op_name, num_outputs, inputs, attrs, ctx, name)\u001b[0m\n\u001b[0;32m     53\u001b[0m     \u001b[0mctx\u001b[0m\u001b[1;33m.\u001b[0m\u001b[0mensure_initialized\u001b[0m\u001b[1;33m(\u001b[0m\u001b[1;33m)\u001b[0m\u001b[1;33m\u001b[0m\u001b[1;33m\u001b[0m\u001b[0m\n\u001b[0;32m     54\u001b[0m     tensors = pywrap_tfe.TFE_Py_Execute(ctx._handle, device_name, op_name,\n\u001b[1;32m---> 55\u001b[1;33m                                         inputs, attrs, num_outputs)\n\u001b[0m\u001b[0;32m     56\u001b[0m   \u001b[1;32mexcept\u001b[0m \u001b[0mcore\u001b[0m\u001b[1;33m.\u001b[0m\u001b[0m_NotOkStatusException\u001b[0m \u001b[1;32mas\u001b[0m \u001b[0me\u001b[0m\u001b[1;33m:\u001b[0m\u001b[1;33m\u001b[0m\u001b[1;33m\u001b[0m\u001b[0m\n\u001b[0;32m     57\u001b[0m     \u001b[1;32mif\u001b[0m \u001b[0mname\u001b[0m \u001b[1;32mis\u001b[0m \u001b[1;32mnot\u001b[0m \u001b[1;32mNone\u001b[0m\u001b[1;33m:\u001b[0m\u001b[1;33m\u001b[0m\u001b[1;33m\u001b[0m\u001b[0m\n",
      "\u001b[1;31mUnimplementedError\u001b[0m: Graph execution error:\n\nDetected at node 'model/Cast' defined at (most recent call last):\n    File \"C:\\Users\\Sahaj\\AppData\\Local\\Programs\\Python\\Python37\\lib\\runpy.py\", line 193, in _run_module_as_main\n      \"__main__\", mod_spec)\n    File \"C:\\Users\\Sahaj\\AppData\\Local\\Programs\\Python\\Python37\\lib\\runpy.py\", line 85, in _run_code\n      exec(code, run_globals)\n    File \"C:\\Users\\Sahaj\\AppData\\Roaming\\Python\\Python37\\site-packages\\ipykernel_launcher.py\", line 16, in <module>\n      app.launch_new_instance()\n    File \"C:\\Users\\Sahaj\\AppData\\Roaming\\Python\\Python37\\site-packages\\traitlets\\config\\application.py\", line 846, in launch_instance\n      app.start()\n    File \"C:\\Users\\Sahaj\\AppData\\Roaming\\Python\\Python37\\site-packages\\ipykernel\\kernelapp.py\", line 677, in start\n      self.io_loop.start()\n    File \"C:\\Users\\Sahaj\\AppData\\Roaming\\Python\\Python37\\site-packages\\tornado\\platform\\asyncio.py\", line 199, in start\n      self.asyncio_loop.run_forever()\n    File \"C:\\Users\\Sahaj\\AppData\\Local\\Programs\\Python\\Python37\\lib\\asyncio\\base_events.py\", line 541, in run_forever\n      self._run_once()\n    File \"C:\\Users\\Sahaj\\AppData\\Local\\Programs\\Python\\Python37\\lib\\asyncio\\base_events.py\", line 1786, in _run_once\n      handle._run()\n    File \"C:\\Users\\Sahaj\\AppData\\Local\\Programs\\Python\\Python37\\lib\\asyncio\\events.py\", line 88, in _run\n      self._context.run(self._callback, *self._args)\n    File \"C:\\Users\\Sahaj\\AppData\\Roaming\\Python\\Python37\\site-packages\\ipykernel\\kernelbase.py\", line 473, in dispatch_queue\n      await self.process_one()\n    File \"C:\\Users\\Sahaj\\AppData\\Roaming\\Python\\Python37\\site-packages\\ipykernel\\kernelbase.py\", line 462, in process_one\n      await dispatch(*args)\n    File \"C:\\Users\\Sahaj\\AppData\\Roaming\\Python\\Python37\\site-packages\\ipykernel\\kernelbase.py\", line 369, in dispatch_shell\n      await result\n    File \"C:\\Users\\Sahaj\\AppData\\Roaming\\Python\\Python37\\site-packages\\ipykernel\\kernelbase.py\", line 664, in execute_request\n      reply_content = await reply_content\n    File \"C:\\Users\\Sahaj\\AppData\\Roaming\\Python\\Python37\\site-packages\\ipykernel\\ipkernel.py\", line 355, in do_execute\n      res = shell.run_cell(code, store_history=store_history, silent=silent)\n    File \"C:\\Users\\Sahaj\\AppData\\Roaming\\Python\\Python37\\site-packages\\ipykernel\\zmqshell.py\", line 532, in run_cell\n      return super().run_cell(*args, **kwargs)\n    File \"C:\\Users\\Sahaj\\AppData\\Roaming\\Python\\Python37\\site-packages\\IPython\\core\\interactiveshell.py\", line 2958, in run_cell\n      raw_cell, store_history, silent, shell_futures)\n    File \"C:\\Users\\Sahaj\\AppData\\Roaming\\Python\\Python37\\site-packages\\IPython\\core\\interactiveshell.py\", line 3003, in _run_cell\n      return runner(coro)\n    File \"C:\\Users\\Sahaj\\AppData\\Roaming\\Python\\Python37\\site-packages\\IPython\\core\\async_helpers.py\", line 78, in _pseudo_sync_runner\n      coro.send(None)\n    File \"C:\\Users\\Sahaj\\AppData\\Roaming\\Python\\Python37\\site-packages\\IPython\\core\\interactiveshell.py\", line 3229, in run_cell_async\n      interactivity=interactivity, compiler=compiler, result=result)\n    File \"C:\\Users\\Sahaj\\AppData\\Roaming\\Python\\Python37\\site-packages\\IPython\\core\\interactiveshell.py\", line 3444, in run_ast_nodes\n      if (await self.run_code(code, result,  async_=asy)):\n    File \"C:\\Users\\Sahaj\\AppData\\Roaming\\Python\\Python37\\site-packages\\IPython\\core\\interactiveshell.py\", line 3524, in run_code\n      exec(code_obj, self.user_global_ns, self.user_ns)\n    File \"C:\\Users\\Sahaj\\AppData\\Local\\Temp\\ipykernel_10260\\4026775640.py\", line 1, in <module>\n      train_model(models[0], data)\n    File \"C:\\Users\\Sahaj\\AppData\\Local\\Temp\\ipykernel_10260\\221957475.py\", line 4, in train_model\n      model.fit(x, x, epochs=800, batch_size=16, verbose=2, validation_data=(x,x))\n    File \"C:\\Users\\Sahaj\\AppData\\Local\\Programs\\Python\\Python37\\lib\\site-packages\\keras\\utils\\traceback_utils.py\", line 64, in error_handler\n      return fn(*args, **kwargs)\n    File \"C:\\Users\\Sahaj\\AppData\\Local\\Programs\\Python\\Python37\\lib\\site-packages\\keras\\engine\\training.py\", line 1384, in fit\n      tmp_logs = self.train_function(iterator)\n    File \"C:\\Users\\Sahaj\\AppData\\Local\\Programs\\Python\\Python37\\lib\\site-packages\\keras\\engine\\training.py\", line 1021, in train_function\n      return step_function(self, iterator)\n    File \"C:\\Users\\Sahaj\\AppData\\Local\\Programs\\Python\\Python37\\lib\\site-packages\\keras\\engine\\training.py\", line 1010, in step_function\n      outputs = model.distribute_strategy.run(run_step, args=(data,))\n    File \"C:\\Users\\Sahaj\\AppData\\Local\\Programs\\Python\\Python37\\lib\\site-packages\\keras\\engine\\training.py\", line 1000, in run_step\n      outputs = model.train_step(data)\n    File \"C:\\Users\\Sahaj\\AppData\\Local\\Programs\\Python\\Python37\\lib\\site-packages\\keras\\engine\\training.py\", line 859, in train_step\n      y_pred = self(x, training=True)\n    File \"C:\\Users\\Sahaj\\AppData\\Local\\Programs\\Python\\Python37\\lib\\site-packages\\keras\\utils\\traceback_utils.py\", line 64, in error_handler\n      return fn(*args, **kwargs)\n    File \"C:\\Users\\Sahaj\\AppData\\Local\\Programs\\Python\\Python37\\lib\\site-packages\\keras\\engine\\base_layer.py\", line 1096, in __call__\n      outputs = call_fn(inputs, *args, **kwargs)\n    File \"C:\\Users\\Sahaj\\AppData\\Local\\Programs\\Python\\Python37\\lib\\site-packages\\keras\\utils\\traceback_utils.py\", line 92, in error_handler\n      return fn(*args, **kwargs)\n    File \"C:\\Users\\Sahaj\\AppData\\Local\\Programs\\Python\\Python37\\lib\\site-packages\\keras\\engine\\functional.py\", line 452, in call\n      inputs, training=training, mask=mask)\n    File \"C:\\Users\\Sahaj\\AppData\\Local\\Programs\\Python\\Python37\\lib\\site-packages\\keras\\engine\\functional.py\", line 571, in _run_internal_graph\n      y = self._conform_to_reference_input(y, ref_input=x)\n    File \"C:\\Users\\Sahaj\\AppData\\Local\\Programs\\Python\\Python37\\lib\\site-packages\\keras\\engine\\functional.py\", line 671, in _conform_to_reference_input\n      tensor = tf.cast(tensor, dtype=ref_input.dtype)\nNode: 'model/Cast'\nCast string to float is not supported\n\t [[{{node model/Cast}}]] [Op:__inference_train_function_3293]"
     ]
    }
   ],
   "source": [
    "train_model(models[0], data)"
   ]
  }
 ],
 "metadata": {
  "interpreter": {
   "hash": "b7f7c4ea1473e71f2b02dcfd9c6eeea46e4b7e6158f129dcc91468de36ded5f2"
  },
  "kernelspec": {
   "display_name": "Python 3.9.7 ('base')",
   "language": "python",
   "name": "python3"
  },
  "language_info": {
   "codemirror_mode": {
    "name": "ipython",
    "version": 3
   },
   "file_extension": ".py",
   "mimetype": "text/x-python",
   "name": "python",
   "nbconvert_exporter": "python",
   "pygments_lexer": "ipython3",
   "version": "3.7.7"
  },
  "orig_nbformat": 4
 },
 "nbformat": 4,
 "nbformat_minor": 2
}
